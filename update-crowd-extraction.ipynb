{
 "cells": [
  {
   "cell_type": "code",
   "execution_count": 1,
   "metadata": {
    "collapsed": false
   },
   "outputs": [],
   "source": [
    "import numpy as np\n",
    "import scipy as sp\n",
    "import re\n",
    "import pandas as pd\n",
    "from collections import Counter\n",
    "import sklearn \n",
    "from sklearn.metrics import classification_report \n",
    "# pip install word2number\n",
    "from word2number import w2n\n",
    "\n",
    "import matplotlib.pyplot as plt\n",
    "%matplotlib inline\n",
    "\n",
    "# pip install pandas_confusion\n",
    "import pandas_confusion\n",
    "\n",
    "from statistics import mode"
   ]
  },
  {
   "cell_type": "code",
   "execution_count": 2,
   "metadata": {
    "collapsed": false
   },
   "outputs": [],
   "source": [
    "crowd_extractions = pd.read_csv(\"crowd-extractions.csv\")\n",
    "# the -main-task.csv implies it excludes the questions used\n",
    "# for testing/validation\n",
    "gold_extractions = pd.read_csv(\"yalin-gold-main-task.csv\", encoding='latin1')"
   ]
  },
  {
   "cell_type": "code",
   "execution_count": 3,
   "metadata": {
    "collapsed": false
   },
   "outputs": [],
   "source": [
    "#crowd_extractions.columns.values\n",
    "#gold_extractions.columns.values\n",
    "#crowd_extractions.head()\n",
    "def my_accuracy_score(y_true, y_pred):\n",
    "    length = len(y_true)\n",
    "    count = .0\n",
    "    for a,b in zip(y_true, y_pred):\n",
    "        if a == b:\n",
    "            count += 1\n",
    "    return count/length"
   ]
  },
  {
   "cell_type": "code",
   "execution_count": 4,
   "metadata": {
    "collapsed": false
   },
   "outputs": [
    {
     "name": "stdout",
     "output_type": "stream",
     "text": [
      "pmid\n",
      "\n",
      "group_1_dose\n",
      "\n",
      "group_1_intervention_name\n",
      "\n",
      "group_1_sample_size\n",
      "\n",
      "group_1_schedule\n",
      "\n",
      "group_2_dose\n",
      "\n",
      "group_2_intervention_name\n",
      "\n",
      "group_2_sample_size\n",
      "\n",
      "group_3_intervention_name\n",
      "\n",
      "share_duration\n",
      "\n",
      "shared_duration_yn\n",
      "\n",
      "shared_intervention_name\n",
      "\n",
      "shared_intervention_name_yn\n",
      "\n",
      "shared_intervention_type\n",
      "\n",
      "shared_intervention_type_yn\n",
      "\n",
      "shared_route\n",
      "\n",
      "shared_route_yn\n",
      "\n",
      "shared_sample_size\n",
      "\n",
      "shared_sample_size_yn\n",
      "\n",
      "shared_schedule\n",
      "\n",
      "shared_schedule_yn\n",
      "\n",
      "abstract\n",
      "\n",
      "['group_1_sample_size', 'group_1_intervention_name', 'shared_schedule', 'shared_intervention_type', 'shared_route_yn', 'share_duration', 'shared_duration_yn', 'group_1_dose', 'shared_sample_size', 'shared_schedule_yn', 'group_1_schedule', 'group_2_intervention_name', 'shared_intervention_name_yn', 'shared_route', 'shared_intervention_type_yn', 'group_2_sample_size', 'shared_sample_size_yn', 'arm_num', 'group_3_intervention_name', 'shared_intervention_name', 'group_2_dose']\n"
     ]
    }
   ],
   "source": [
    "# Skip the NAcolumns(contain more than 90% NA) in crowd_extractions and gold_extractions\n",
    "def Nan_columns(extraction):\n",
    "    sample_size =  extraction.shape[0]\n",
    "    extractions_NANcolumns = []\n",
    "    for value in extraction.columns.values:\n",
    "        nan_num = extraction[value].isnull().sum()\n",
    "        if nan_num >= sample_size*0.9: \n",
    "            #print \"feature %s all Nan\"%value\n",
    "            extractions_NANcolumns.append(value)\n",
    "    return extractions_NANcolumns\n",
    "crowd_extractions_NANcolumns = Nan_columns(crowd_extractions)\n",
    "gold_extractions_NANcolumns = Nan_columns(gold_extractions)\n",
    "gold_extractions_NANcolumns = [s.encode('utf-8') for s in gold_extractions_NANcolumns]\n",
    "Nan_columns = list(set(crowd_extractions_NANcolumns+gold_extractions_NANcolumns))\n",
    "\n",
    "common_columns = [x for x in crowd_extractions.columns.values if (x in gold_extractions.columns.values) and (x not in Nan_columns)]\n",
    "#missed_crowd_columns = [x for x in crowd_extractions.columns.values if (x not in Nan_columns) and (x not in common_columns)]\n",
    "#missed_gold_columns = [x for x in gold_extractions.columns.values if (x not in Nan_columns) and (x not in common_columns)]\n",
    "for field in common_columns:\n",
    "    print field \n",
    "    print\n",
    "\n",
    "# crowd_gold_columns map the columns from crowd_extractions to gold_extractions\n",
    "# 'arm_num' equals to 'arm_num_gold'\n",
    "# We also remove field: 'pmid', 'abstract'\n",
    "crowd_gold_columns = {key:key for key in common_columns}\n",
    "crowd_gold_columns['arm_num'] = 'arm_num_gold'\n",
    "crowd_gold_columns.pop('abstract', None)\n",
    "crowd_gold_columns.pop('pmid', None)\n",
    "print crowd_gold_columns.keys()\n"
   ]
  },
  {
   "cell_type": "code",
   "execution_count": 5,
   "metadata": {
    "collapsed": false
   },
   "outputs": [],
   "source": [
    "#gold_extractions.head()"
   ]
  },
  {
   "cell_type": "code",
   "execution_count": 6,
   "metadata": {
    "collapsed": true
   },
   "outputs": [],
   "source": [
    "all_pmids = [int(pmid) for pmid in gold_extractions[\"pmid\"].values]"
   ]
  },
  {
   "cell_type": "code",
   "execution_count": 7,
   "metadata": {
    "collapsed": false
   },
   "outputs": [
    {
     "name": "stdout",
     "output_type": "stream",
     "text": [
      "failed on 2619027 for expert! ref val: ???\n",
      "\n",
      "failed on 7853047 for expert! ref val: ???\n",
      "\n",
      "failed on 8018001 for crowd! arm responses: above_eight\n",
      "\n",
      "failed on 8018001 for expert! ref val: more than 8\n",
      "\n",
      "failed on 9549451 for crowd! arm responses: above_eight\n",
      "\n",
      "failed on 12069289 for expert! ref val: one?\n",
      "\n",
      "failed on 17855465 for expert! ref val: one?\n",
      "\n",
      "failed on 18851769 for expert! ref val: ???\n",
      "\n"
     ]
    }
   ],
   "source": [
    "# Byron's original code\n",
    "# Word2number package update a new error handling for invalid input \n",
    "# and it throws a string \"Error: Please enter a valid number word\" instead of the Exception\n",
    "# I fix the bug\n",
    "crowd_num_arms, reference_num_arms = {}, {}\n",
    "for pmid in all_pmids:\n",
    "    #print(\"on PMID: %s\" % pmid)\n",
    "    pmid_crowd_num_arms  = crowd_extractions[crowd_extractions[\"pmid\"] == pmid][\"arm_num\"].values\n",
    "    crowd_responses = []\n",
    "    for n_arms in pmid_crowd_num_arms:\n",
    "        w2n_number = w2n.word_to_num(n_arms)\n",
    "        if type(w2n_number) != type(1):\n",
    "            print(\"failed on %s for crowd! arm responses: %s\" % (pmid, n_arms))\n",
    "            print \n",
    "        else:\n",
    "            crowd_responses.append(w2n.word_to_num(n_arms)) #w2n.word_to_num(n_arms) for n_arms in pmid_crowd_num_arms\n",
    "    crowd_num_arms[pmid] = mode(crowd_responses)\n",
    "    \n",
    "    cur_ref_val = gold_extractions[gold_extractions[\"pmid\"] == pmid][\"arm_num_gold\"].values[0]\n",
    "    w2n_number = w2n.word_to_num(cur_ref_val)\n",
    "    if type(w2n_number) != type(1):\n",
    "        print(\"failed on %s for expert! ref val: %s\" % (pmid, cur_ref_val))\n",
    "        print\n",
    "    else:\n",
    "        reference_num_arms[pmid] = w2n.word_to_num(cur_ref_val)\n",
    "\n",
    "        # w2n.word_to_num(gold_extractions[gold_extractions[\"pmid\"] == int(pmid)][\"arm_num_gold\"])\n",
    "    #print()"
   ]
  },
  {
   "cell_type": "code",
   "execution_count": 8,
   "metadata": {
    "collapsed": false
   },
   "outputs": [
    {
     "name": "stdout",
     "output_type": "stream",
     "text": [
      "             precision    recall  f1-score   support\n",
      "\n",
      "          2       0.84      1.00      0.91        46\n",
      "          3       0.86      0.75      0.80         8\n",
      "          4       1.00      0.22      0.36         9\n",
      "          6       1.00      0.50      0.67         2\n",
      "          7       1.00      1.00      1.00         1\n",
      "\n",
      "avg / total       0.87      0.85      0.82        66\n",
      "\n"
     ]
    }
   ],
   "source": [
    "# Byron's original code\n",
    "y, y_hat = [], []\n",
    "for pmid in all_pmids:\n",
    "    if all([pmid in key_set for key_set in [reference_num_arms.keys(), \n",
    "                                                crowd_num_arms.keys()]]):\n",
    "        y.append(reference_num_arms[pmid])\n",
    "        y_hat.append(crowd_num_arms[pmid])\n",
    "\n",
    "print(classification_report(y, y_hat))"
   ]
  },
  {
   "cell_type": "code",
   "execution_count": 9,
   "metadata": {
    "collapsed": false
   },
   "outputs": [],
   "source": [
    "# Replace difficulty 'Nan' with -1 \n",
    "#crowd_extractions.difficulty.fillna(value=-1,inplace=True)\n",
    "#crowd_extractions.arm_num.value_counts(dropna=False)\n",
    "#gold_extractions.arm_num_gold.value_counts(dropna=False)"
   ]
  },
  {
   "cell_type": "code",
   "execution_count": 10,
   "metadata": {
    "collapsed": true
   },
   "outputs": [],
   "source": [
    "# find most common element in a list\n",
    "# function 'statistics.mode' will raise error when there are more than one most common element\n",
    "def most_common(l):\n",
    "    return Counter(l).most_common(1)[0][0]"
   ]
  },
  {
   "cell_type": "code",
   "execution_count": 11,
   "metadata": {
    "collapsed": true
   },
   "outputs": [],
   "source": [
    "# Convert string containing number to integer, e.g., \"24 year\" -> 24.0, \"above_eight\"->8.0 \n",
    "def Num_to_int(s):\n",
    "    try:\n",
    "        if np.isnan(s):\n",
    "            return -1.0\n",
    "    except TypeError:\n",
    "        pass\n",
    "    if isinstance(s, float) or isinstance(s, int):\n",
    "        return s\n",
    "    else:\n",
    "        s = s.encode('utf-8')\n",
    "    num_d = w2n.american_number_system\n",
    "    s = re.sub('[^0-9a-zA-Z.]+', ' ', s).strip()\n",
    "    l_num = re.findall(r\"[-+]?\\d*\\.\\d+|\\d+\",s)\n",
    "    if len(l_num) >= 1:\n",
    "        return float(l_num[0])\n",
    "    l_word = s.split(' ')\n",
    "    for word in l_word:\n",
    "        if word not in num_d:\n",
    "            l_word.remove(word)\n",
    "    s = ' '.join(l_word)\n",
    "    s = w2n.word_to_num(s)\n",
    "    if type(s) == type(1):\n",
    "        return float(s)\n",
    "    return -1.0"
   ]
  },
  {
   "cell_type": "code",
   "execution_count": 12,
   "metadata": {
    "collapsed": false
   },
   "outputs": [
    {
     "name": "stdout",
     "output_type": "stream",
     "text": [
      "8.0\n",
      "-1.0\n",
      "1.0\n",
      "8.0\n",
      "8.0\n",
      "8.0\n"
     ]
    }
   ],
   "source": [
    "print Num_to_int('above_eight')\n",
    "print Num_to_int('???')\n",
    "print Num_to_int('one?')\n",
    "print Num_to_int('more than 8')\n",
    "print Num_to_int('smaller than 8')\n",
    "print Num_to_int('8?')"
   ]
  },
  {
   "cell_type": "code",
   "execution_count": 13,
   "metadata": {
    "collapsed": true
   },
   "outputs": [],
   "source": [
    "# calculate the accuracy score of numerical fields\n",
    "def confusion_crowd_gold_1(crowd_extractions, gold_extractions, crowd_field, gold_field):\n",
    "    crowd_num_arms, reference_num_arms = {}, {}\n",
    "    for pmid in all_pmids:\n",
    "        if pmid not in crowd_extractions.pmid.unique().tolist():\n",
    "            continue\n",
    "        #print(\"on PMID: %s\" % pmid)\n",
    "        pmid_crowd_num_arms  = crowd_extractions[crowd_extractions[\"pmid\"] == pmid][crowd_field].values\n",
    "        crowd_responses = []\n",
    "        for n_arms in pmid_crowd_num_arms:\n",
    "            #w2n_number = w2n.word_to_num(n_arms)\n",
    "            w2n_number = Num_to_int(n_arms)\n",
    "            crowd_responses.append(w2n_number)\n",
    "        if len(crowd_responses)>0:\n",
    "            try:\n",
    "                crowd_num_arms[pmid] = mode(crowd_responses)\n",
    "            except:\n",
    "                crowd_num_arms[pmid] = most_common(crowd_responses)\n",
    "\n",
    "        cur_ref_val = gold_extractions[gold_extractions[\"pmid\"] == pmid][gold_field].values[0]\n",
    "        #w2n_number = w2n.word_to_num(cur_ref_val)\n",
    "        w2n_number = Num_to_int(cur_ref_val)\n",
    "        reference_num_arms[pmid] = w2n_number\n",
    "    y_gold, y_crowd = [], []\n",
    "    for pmid in all_pmids:\n",
    "        if all([pmid in key_set for key_set in [reference_num_arms.keys(), \n",
    "                                                    crowd_num_arms.keys()]]):\n",
    "            y_gold.append(reference_num_arms[pmid])\n",
    "            y_crowd.append(crowd_num_arms[pmid])\n",
    "\n",
    "    print \"crowd column is %s, gold column is %s \"%(crowd_field, gold_field)\n",
    "    print \"gold extraction\"\n",
    "    print y_gold\n",
    "    print \n",
    "    print \"crowd extraction\"\n",
    "    print y_crowd\n",
    "    print\n",
    "    accuracy = my_accuracy_score(y_gold, y_crowd)\n",
    "    print \"accuracy is %s\"%accuracy\n",
    "    #confusion_matrix = classification_report(y, y_hat)\n",
    "    #print confusion_matrix\n",
    "    return accuracy"
   ]
  },
  {
   "cell_type": "code",
   "execution_count": 14,
   "metadata": {
    "collapsed": false
   },
   "outputs": [],
   "source": [
    "# view the content of crowd extractions\n",
    "\n",
    "#all_value = []\n",
    "#for key in crowd_extractions.columns.values:\n",
    "#    if key in crowd_gold_columns:\n",
    "#        print key,\",\", crowd_gold_columns[key]\n",
    "#        print crowd_extractions[key].unique().tolist()\n",
    "#        print gold_extractions[crowd_gold_columns[key]].unique().tolist()\n",
    "#        print\n"
   ]
  },
  {
   "cell_type": "code",
   "execution_count": 15,
   "metadata": {
    "collapsed": false
   },
   "outputs": [
    {
     "name": "stdout",
     "output_type": "stream",
     "text": [
      "crowd column is arm_num, gold column is arm_num_gold \n",
      "gold extraction\n",
      "[2.0, 2.0, 2.0, 2.0, 2.0, 2.0, 2.0, 2.0, 2.0, 2.0, 4.0, -1.0, 2.0, 2.0, 3.0, 2.0, 2.0, 2.0, 3.0, 2.0, 2.0, 7.0, 4.0, 3.0, -1.0, 2.0, 8.0, 2.0, 2.0, 3.0, 2.0, 3.0, 2.0, 4.0, 2.0, 2.0, 2.0, 4.0, 4.0, 4.0, 2.0, 6.0, 4.0, 2.0, 2.0, 1.0, 4.0, 2.0, 4.0, 3.0, 2.0, 2.0, 2.0, 2.0, 3.0, 2.0, 2.0, 2.0, 2.0, 2.0, 1.0, 2.0, 2.0, -1.0, 2.0, 3.0, 2.0, 2.0, 2.0, 2.0, 2.0, 6.0]\n",
      "\n",
      "crowd extraction\n",
      "[2.0, 2.0, 2.0, 2.0, 2.0, 2.0, 2.0, 2.0, 2.0, 2.0, 2.0, 2.0, 2.0, 2.0, 3.0, 2.0, 2.0, 2.0, 3.0, 2.0, 2.0, 7.0, 4.0, 2.0, 2.0, 2.0, 2.0, 2.0, 2.0, 3.0, 2.0, 3.0, 2.0, 2.0, 2.0, 2.0, 2.0, 2.0, 2.0, 4.0, 2.0, 3.0, 2.0, 2.0, 2.0, 2.0, 2.0, 2.0, 2.0, 3.0, 2.0, 2.0, 2.0, 2.0, 2.0, 2.0, 2.0, 2.0, 2.0, 2.0, 2.0, 2.0, 2.0, 2.0, 2.0, 3.0, 2.0, 2.0, 2.0, 2.0, 2.0, 6.0]\n",
      "\n",
      "accuracy is 0.777777777778\n",
      "------------------------------\n",
      "crowd column is shared_sample_size, gold column is shared_sample_size \n",
      "gold extraction\n",
      "[60.0, -1.0, 96.0, 55.0, -1.0, -1.0, -1.0, 298.0, 70.0, -1.0, -1.0, 40.0, 28.0, 60.0, 96.0, -1.0, -1.0, 70.0, 10.0, 52.0, 40.0, -1.0, 126.0, 15.0, -1.0, -1.0, 512.0, -1.0, -1.0, -1.0, -1.0, -1.0, -1.0, 342.0, -1.0, -1.0, -1.0, -1.0, 56.0, 344.0, 1.0, 614.0, 82.0, -1.0, 3794.0, 27.0, 578.0, -1.0, 360.0, -1.0, 72.0, -1.0, -1.0, -1.0, -1.0, -1.0, 186.0, 774.0, 31.0, 178.0, 572.0, -1.0, 40.0, -1.0, 480.0, -1.0, 45.0, 231.0, 65.0, 28.0, -1.0, 268.0]\n",
      "\n",
      "crowd extraction\n",
      "[30.0, -1.0, 96.0, 80.0, -1.0, 44.0, 10.0, 347.0, 350.0, -1.0, -1.0, 40.0, 28.0, 60.0, -1.0, 52.0, -1.0, 70.0, 10.0, 52.0, 40.0, -1.0, -1.0, 15.0, -1.0, -1.0, 512.0, 80.0, -1.0, -1.0, -1.0, -1.0, 16.0, 342.0, 98.0, 1854.0, -1.0, 31583.0, 64.0, 344.0, 1876.0, 614.0, 82.0, -1.0, 3794.0, 26.0, 578.0, -1.0, 360.0, -1.0, 72.0, 50.0, -1.0, -1.0, 52.0, 30.0, 186.0, 774.0, 31.0, -1.0, 572.0, -1.0, -1.0, -1.0, 480.0, -1.0, 45.0, 231.0, 65.0, 28.0, -1.0, 268.0]\n",
      "\n",
      "accuracy is 0.694444444444\n",
      "------------------------------\n",
      "crowd column is group_1_sample_size, gold column is group_1_sample_size \n",
      "gold extraction\n",
      "[-1.0, 21.0, -1.0, -1.0, 39.0, 17.0, 10.0, -1.0, -1.0, 66.0, 170.0, -1.0, -1.0, -1.0, -1.0, 26.0, 12.0, -1.0, -1.0, -1.0, -1.0, -1.0, -1.0, -1.0, -1.0, -1.0, -1.0, 34.0, 20.0, -1.0, 27.0, 115.0, 16.0, -1.0, 41.0, 15.0, 20.0, -1.0, -1.0, -1.0, -1.0, -1.0, -1.0, 88.0, -1.0, -1.0, -1.0, 31.0, -1.0, 149.0, -1.0, 25.0, 39.0, 52.0, 18.0, 30.0, -1.0, -1.0, -1.0, 85.0, -1.0, 37.0, -1.0, -1.0, -1.0, 33.0, -1.0, -1.0, -1.0, -1.0, 311.0, -1.0]\n",
      "\n",
      "crowd extraction\n",
      "[-1.0, 21.0, -1.0, -1.0, 39.0, -1.0, -1.0, -1.0, -1.0, 47.0, 170.0, -1.0, -1.0, -1.0, -1.0, -1.0, 12.0, -1.0, -1.0, -1.0, -1.0, -1.0, 18.0, -1.0, -1.0, -1.0, -1.0, -1.0, 20.0, -1.0, 27.0, 115.0, -1.0, -1.0, -1.0, -1.0, 20.0, -1.0, -1.0, -1.0, -1.0, -1.0, -1.0, 88.0, -1.0, -1.0, -1.0, 31.0, -1.0, 149.0, -1.0, -1.0, 39.0, 52.0, -1.0, -1.0, -1.0, -1.0, -1.0, 85.0, -1.0, -1.0, -1.0, -1.0, -1.0, 33.0, -1.0, -1.0, -1.0, -1.0, 311.0, -1.0]\n",
      "\n",
      "accuracy is 0.819444444444\n",
      "------------------------------\n",
      "crowd column is group_2_sample_size, gold column is group_2_sample_size \n",
      "gold extraction\n",
      "[-1.0, 19.0, -1.0, -1.0, 41.0, 20.0, 10.0, -1.0, -1.0, 38.0, 173.0, -1.0, -1.0, -1.0, -1.0, 26.0, 8.0, -1.0, -1.0, -1.0, -1.0, -1.0, -1.0, -1.0, -1.0, -1.0, -1.0, 37.0, 21.0, -1.0, 26.0, 111.0, 16.0, -1.0, 44.0, 18.0, 20.0, -1.0, -1.0, -1.0, -1.0, -1.0, -1.0, -1.0, -1.0, -1.0, -1.0, 28.0, -1.0, 149.0, -1.0, 25.0, 36.0, 53.0, 20.0, 30.0, -1.0, -1.0, -1.0, 93.0, -1.0, 37.0, -1.0, -1.0, -1.0, 33.0, -1.0, -1.0, -1.0, -1.0, 315.0, -1.0]\n",
      "\n",
      "crowd extraction\n",
      "[-1.0, 19.0, -1.0, -1.0, 41.0, -1.0, -1.0, -1.0, -1.0, 57.0, 173.0, -1.0, -1.0, -1.0, -1.0, -1.0, 8.0, -1.0, -1.0, -1.0, -1.0, -1.0, 40.0, -1.0, -1.0, -1.0, -1.0, -1.0, 21.0, -1.0, 26.0, 111.0, -1.0, -1.0, -1.0, -1.0, 20.0, -1.0, -1.0, -1.0, -1.0, -1.0, -1.0, 84.0, -1.0, -1.0, -1.0, 28.0, -1.0, 149.0, -1.0, -1.0, 36.0, 53.0, -1.0, -1.0, -1.0, -1.0, -1.0, 93.0, -1.0, -1.0, -1.0, -1.0, -1.0, 33.0, -1.0, -1.0, -1.0, -1.0, -1.0, -1.0]\n",
      "\n",
      "accuracy is 0.791666666667\n",
      "------------------------------\n",
      "\n"
     ]
    }
   ],
   "source": [
    "# calculate the accuracy score of numerical fields \n",
    "confusion_crowd_gold_1(crowd_extractions, gold_extractions, 'arm_num', 'arm_num_gold')\n",
    "print \"---\"*10\n",
    "confusion_crowd_gold_1(crowd_extractions, gold_extractions, 'shared_sample_size', 'shared_sample_size')\n",
    "print \"---\"*10\n",
    "confusion_crowd_gold_1(crowd_extractions, gold_extractions, 'group_1_sample_size', 'group_1_sample_size')\n",
    "print \"---\"*10\n",
    "confusion_crowd_gold_1(crowd_extractions, gold_extractions, 'group_2_sample_size', 'group_2_sample_size')\n",
    "print \"---\"*10\n",
    "print "
   ]
  },
  {
   "cell_type": "code",
   "execution_count": 16,
   "metadata": {
    "collapsed": true
   },
   "outputs": [],
   "source": [
    "# Convert string containing time duration to integer, e.g., \"24 year\" -> 24.0, \"above_eight\"->8.0 \n",
    "def Duration_to_int(s):\n",
    "    number = -1\n",
    "    unit = -1\n",
    "    try:\n",
    "        if np.isnan(s):\n",
    "            return -1.0\n",
    "    except TypeError:\n",
    "        pass\n",
    "    if isinstance(s, float) or isinstance(s, int):\n",
    "        return s\n",
    "    else:\n",
    "        s = s.encode('utf-8')\n",
    "    unit_d = {'year':365, 'month':30, 'week':7, 'day':1, 'hour': 1.0/24, \n",
    "              'minute': 1.0/(24*60), 'second': 1.0/(24*60*60),'years':365, \n",
    "              'months':30, 'weeks':7, 'days':1, 'hours': 1.0/24, \n",
    "              'minutes': 1.0/(24*60), 'seconds': 1.0/(24*60*60)}\n",
    "    num_d = w2n.american_number_system\n",
    "    \n",
    "    s = re.sub('[^0-9a-zA-Z.]+', ' ', s).strip()\n",
    "    l_num = re.findall(r\"[-+]?\\d*\\.\\d+|\\d+\",s)\n",
    "    if len(l_num) >= 1:\n",
    "        number = float(l_num[0])\n",
    "    if number == -1:\n",
    "        l_word = s.split(' ')\n",
    "        for word in l_word:\n",
    "            if word not in num_d:\n",
    "                l_word.remove(word)\n",
    "        ns = ' '.join(l_word)\n",
    "        ns = w2n.word_to_num(ns)\n",
    "        if type(ns) == type(1):\n",
    "            number = float(ns)\n",
    "\n",
    "    l_word = s.split(' ')\n",
    "    for word in l_word:\n",
    "        if word in unit_d:\n",
    "            unit = unit_d[word]\n",
    "            break\n",
    "            \n",
    "    if (number != (-1))&(unit != (-1)):\n",
    "        return float(number*unit)\n",
    "    elif(number == (-1))&(unit != (-1)):\n",
    "        return float(unit)\n",
    "    elif(number != (-1))&(unit == (-1)):\n",
    "        return float(number)\n",
    "    else:\n",
    "        return -1"
   ]
  },
  {
   "cell_type": "code",
   "execution_count": 17,
   "metadata": {
    "collapsed": false
   },
   "outputs": [
    {
     "name": "stdout",
     "output_type": "stream",
     "text": [
      "7.0\n",
      "0.125\n",
      "182.0\n",
      "0.25\n",
      "30.0\n",
      "5.0\n",
      "90.0\n",
      "35.0\n",
      "14.0\n",
      "2.0\n",
      "14.0\n"
     ]
    }
   ],
   "source": [
    "print Duration_to_int('a week')\n",
    "print Duration_to_int('3-hour')\n",
    "print Duration_to_int('26 weeks')\n",
    "print Duration_to_int('6 hours')\n",
    "print Duration_to_int('one month')\n",
    "print Duration_to_int('5 days')\n",
    "print Duration_to_int('90 days')\n",
    "print Duration_to_int('five weeks')\n",
    "print Duration_to_int('two periods of 14 days')\n",
    "print Duration_to_int('two periods')\n",
    "print Duration_to_int('14 days')"
   ]
  },
  {
   "cell_type": "code",
   "execution_count": 18,
   "metadata": {
    "collapsed": true
   },
   "outputs": [],
   "source": [
    "# calculate the accuracy score of frequency and time duration fields\n",
    "def confusion_crowd_gold_2(crowd_extractions, gold_extractions, crowd_field, gold_field):\n",
    "    crowd_num_arms, reference_num_arms = {}, {}\n",
    "    for pmid in all_pmids:\n",
    "        if pmid not in crowd_extractions.pmid.unique().tolist():\n",
    "            continue\n",
    "        #print(\"on PMID: %s\" % pmid)\n",
    "        pmid_crowd_num_arms  = crowd_extractions[crowd_extractions[\"pmid\"] == pmid][crowd_field].values\n",
    "        crowd_responses = []\n",
    "        for n_arms in pmid_crowd_num_arms:\n",
    "            if isinstance(n_arms, float) or isinstance(n_arms, int):\n",
    "                w2n_number = Duration_to_int(n_arms)\n",
    "            else:\n",
    "                w2n_number = Duration_to_int(n_arms)\n",
    "                if w2n_number != -1:    \n",
    "                    w2n_number = 1\n",
    "                    n_arms = n_arms.encode('utf-8')\n",
    "                    n_arms_list = n_arms.split(' of ')\n",
    "                    for sentence_part in n_arms_list:\n",
    "                        temp_score = Duration_to_int(sentence_part)\n",
    "                        if temp_score != -1:\n",
    "                            w2n_number = w2n_number * temp_score\n",
    "            crowd_responses.append(w2n_number)\n",
    "        if len(crowd_responses)>0:\n",
    "            try:\n",
    "                crowd_num_arms[pmid] = mode(crowd_responses)\n",
    "            except:\n",
    "                crowd_num_arms[pmid] = most_common(crowd_responses)\n",
    "\n",
    "        cur_ref_val = gold_extractions[gold_extractions[\"pmid\"] == pmid][gold_field].values[0]\n",
    "        #w2n_number = w2n.word_to_num(cur_ref_val)\n",
    "        if isinstance(cur_ref_val, float) or isinstance(cur_ref_val, int):\n",
    "            w2n_number = Duration_to_int(cur_ref_val)\n",
    "        else:\n",
    "            w2n_number = Duration_to_int(cur_ref_val)\n",
    "            if w2n_number != -1:    \n",
    "                w2n_number = 1\n",
    "                cur_ref_val = cur_ref_val.encode('utf-8')\n",
    "                cur_ref_val_list = cur_ref_val.split(' of ')\n",
    "                for sentence_part in cur_ref_val_list:\n",
    "                    temp_score = Duration_to_int(sentence_part)\n",
    "                    if temp_score != -1:\n",
    "                        w2n_number = w2n_number * temp_score\n",
    "       \n",
    "        reference_num_arms[pmid] = w2n_number\n",
    "    y_gold, y_crowd = [], []\n",
    "    for pmid in all_pmids:\n",
    "        if all([pmid in key_set for key_set in [reference_num_arms.keys(), \n",
    "                                                    crowd_num_arms.keys()]]):\n",
    "            y_gold.append(reference_num_arms[pmid])\n",
    "            y_crowd.append(crowd_num_arms[pmid])\n",
    "\n",
    "    print \"crowd column is %s, gold column is %s \"%(crowd_field, gold_field)\n",
    "    print \"gold extraction\"\n",
    "    print y_gold\n",
    "    print \n",
    "    print \"crowd extraction\"\n",
    "    print y_crowd\n",
    "    print\n",
    "    #accuracy = accuracy_score(y_gold, y_crowd)\n",
    "    accuracy = my_accuracy_score(y_gold, y_crowd)\n",
    "    print \"accuracy is %s\"%accuracy\n",
    "    #confusion_matrix = classification_report(y, y_hat)\n",
    "    #print confusion_matrix\n",
    "    return accuracy"
   ]
  },
  {
   "cell_type": "code",
   "execution_count": 19,
   "metadata": {
    "collapsed": false
   },
   "outputs": [
    {
     "name": "stdout",
     "output_type": "stream",
     "text": [
      "crowd column is share_duration, gold column is share_duration \n",
      "gold extraction\n",
      "[7.0, -1.0, -1.0, 0.125, 182.0, -1.0, 0.25, -1.0, -1.0, -1.0, -1.0, -1.0, 35.0, 84.0, -1.0, 120.0, 70.0, -1.0, 30.0, -1.0, -1.0, -1.0, -1.0, -1.0, -1.0, 360.0, 84.0, 5.0, 105.0, 120.0, -1.0, 168.0, 28.0, 84.0, 14.0, 360.0, -1.0, 1825.0, 140.0, 378.0, -1.0, -1.0, -1.0, 42.0, -1.0, 1740.0, -1.0, -1.0, 84.0, 84.0, -1.0, 360.0, -1.0, -1.0, 168.0, -1.0, -1.0, 42.0, -1.0, -1.0, -1.0, -1.0, 42.0, -1.0, -1.0, 210.0, 90.0, 360.0, -1.0, -1.0, 1825.0, 720.0]\n",
      "\n",
      "crowd extraction\n",
      "[-1, -1, 1825.0, 1.0, 392.0, 15.0, -1, 297.0, -1, 960.0, 0.25, -1, 35.0, 84.0, -1, 120.0, 70.0, 730.0, 30.0, -1, 1898.0, 24.0, -1, -1, -1, 360.0, 84.0, 5.0, 105.0, 56.0, -1, 168.0, 14.0, 84.0, 14.0, 360.0, -1.0, 1825.0, 140.0, 378.0, -1, 365.0, -1, 42.0, 180.0, -1, 180.0, 730.0, 84.0, 84.0, -1, 360.0, 730.0, -1, 168.0, 0.006944444444444445, -1, 42.0, -1, 24.0, -1, -1, 42.0, -1, 63.0, 168.0, 90.0, 360.0, 24.0, 730.0, 1825.0, 720.0]\n",
      "\n",
      "accuracy is 0.638888888889\n",
      "------------------------------\n"
     ]
    }
   ],
   "source": [
    "# calculate the accuracy score of time duration fields \n",
    "confusion_crowd_gold_2(crowd_extractions, gold_extractions, 'share_duration', 'share_duration')\n",
    "print \"---\"*10"
   ]
  },
  {
   "cell_type": "code",
   "execution_count": null,
   "metadata": {
    "collapsed": true
   },
   "outputs": [],
   "source": []
  }
 ],
 "metadata": {
  "kernelspec": {
   "display_name": "Python 2",
   "language": "python",
   "name": "python2"
  },
  "language_info": {
   "codemirror_mode": {
    "name": "ipython",
    "version": 2
   },
   "file_extension": ".py",
   "mimetype": "text/x-python",
   "name": "python",
   "nbconvert_exporter": "python",
   "pygments_lexer": "ipython2",
   "version": "2.7.8"
  }
 },
 "nbformat": 4,
 "nbformat_minor": 0
}
