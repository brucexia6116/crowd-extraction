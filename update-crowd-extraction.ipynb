{
 "cells": [
  {
   "cell_type": "code",
   "execution_count": 1,
   "metadata": {
    "collapsed": false
   },
   "outputs": [],
   "source": [
    "import numpy as np\n",
    "import scipy as sp\n",
    "import re\n",
    "import pandas as pd\n",
    "from collections import Counter\n",
    "import sklearn \n",
    "from sklearn.metrics import classification_report \n",
    "# pip install word2number\n",
    "from word2number import w2n\n",
    "\n",
    "import matplotlib.pyplot as plt\n",
    "%matplotlib inline\n",
    "\n",
    "# pip install pandas_confusion\n",
    "import pandas_confusion\n",
    "\n",
    "from statistics import mode"
   ]
  },
  {
   "cell_type": "code",
   "execution_count": 2,
   "metadata": {
    "collapsed": false
   },
   "outputs": [],
   "source": [
    "crowd_extractions = pd.read_csv(\"crowd-extractions.csv\")\n",
    "# the -main-task.csv implies it excludes the questions used\n",
    "# for testing/validation\n",
    "gold_extractions = pd.read_csv(\"yalin-gold-main-task.csv\", encoding='latin1')"
   ]
  },
  {
   "cell_type": "code",
   "execution_count": 3,
   "metadata": {
    "collapsed": false
   },
   "outputs": [],
   "source": [
    "#crowd_extractions.columns.values\n",
    "#gold_extractions.columns.values\n",
    "#crowd_extractions.head()\n",
    "def my_accuracy_score(y_true, y_pred):\n",
    "    length = len(y_true)\n",
    "    count = .0\n",
    "    for a,b in zip(y_true, y_pred):\n",
    "        if a == b:\n",
    "            count += 1\n",
    "    return count/length"
   ]
  },
  {
   "cell_type": "code",
   "execution_count": 4,
   "metadata": {
    "collapsed": false
   },
   "outputs": [
    {
     "name": "stdout",
     "output_type": "stream",
     "text": [
      "pmid\n",
      "\n",
      "group_1_dose\n",
      "\n",
      "group_1_intervention_name\n",
      "\n",
      "group_1_sample_size\n",
      "\n",
      "group_1_schedule\n",
      "\n",
      "group_2_dose\n",
      "\n",
      "group_2_intervention_name\n",
      "\n",
      "group_2_sample_size\n",
      "\n",
      "group_3_intervention_name\n",
      "\n",
      "share_duration\n",
      "\n",
      "shared_duration_yn\n",
      "\n",
      "shared_intervention_name\n",
      "\n",
      "shared_intervention_name_yn\n",
      "\n",
      "shared_intervention_type\n",
      "\n",
      "shared_intervention_type_yn\n",
      "\n",
      "shared_route\n",
      "\n",
      "shared_route_yn\n",
      "\n",
      "shared_sample_size\n",
      "\n",
      "shared_sample_size_yn\n",
      "\n",
      "shared_schedule\n",
      "\n",
      "shared_schedule_yn\n",
      "\n",
      "abstract\n",
      "\n",
      "['group_1_sample_size', 'group_1_intervention_name', 'shared_schedule', 'shared_intervention_type', 'shared_route_yn', 'share_duration', 'shared_duration_yn', 'group_1_dose', 'shared_sample_size', 'shared_schedule_yn', 'group_1_schedule', 'group_2_intervention_name', 'shared_intervention_name_yn', 'shared_route', 'shared_intervention_type_yn', 'group_2_sample_size', 'shared_sample_size_yn', 'arm_num', 'group_3_intervention_name', 'shared_intervention_name', 'group_2_dose']\n"
     ]
    }
   ],
   "source": [
    "# Skip the NAcolumns(contain more than 90% NA) in crowd_extractions and gold_extractions\n",
    "def Nan_columns(extraction):\n",
    "    sample_size =  extraction.shape[0]\n",
    "    extractions_NANcolumns = []\n",
    "    for value in extraction.columns.values:\n",
    "        nan_num = extraction[value].isnull().sum()\n",
    "        if nan_num >= sample_size*0.9: \n",
    "            #print \"feature %s all Nan\"%value\n",
    "            extractions_NANcolumns.append(value)\n",
    "    return extractions_NANcolumns\n",
    "crowd_extractions_NANcolumns = Nan_columns(crowd_extractions)\n",
    "gold_extractions_NANcolumns = Nan_columns(gold_extractions)\n",
    "gold_extractions_NANcolumns = [s.encode('utf-8') for s in gold_extractions_NANcolumns]\n",
    "Nan_columns = list(set(crowd_extractions_NANcolumns+gold_extractions_NANcolumns))\n",
    "\n",
    "common_columns = [x for x in crowd_extractions.columns.values if (x in gold_extractions.columns.values) and (x not in Nan_columns)]\n",
    "#missed_crowd_columns = [x for x in crowd_extractions.columns.values if (x not in Nan_columns) and (x not in common_columns)]\n",
    "#missed_gold_columns = [x for x in gold_extractions.columns.values if (x not in Nan_columns) and (x not in common_columns)]\n",
    "for field in common_columns:\n",
    "    print field \n",
    "    print\n",
    "\n",
    "# crowd_gold_columns map the columns from crowd_extractions to gold_extractions\n",
    "# 'arm_num' equals to 'arm_num_gold'\n",
    "# We also remove field: 'pmid', 'abstract'\n",
    "crowd_gold_columns = {key:key for key in common_columns}\n",
    "crowd_gold_columns['arm_num'] = 'arm_num_gold'\n",
    "crowd_gold_columns.pop('abstract', None)\n",
    "crowd_gold_columns.pop('pmid', None)\n",
    "print crowd_gold_columns.keys()\n"
   ]
  },
  {
   "cell_type": "code",
   "execution_count": 5,
   "metadata": {
    "collapsed": false
   },
   "outputs": [],
   "source": [
    "#gold_extractions.head()"
   ]
  },
  {
   "cell_type": "code",
   "execution_count": 6,
   "metadata": {
    "collapsed": true
   },
   "outputs": [],
   "source": [
    "all_pmids = [int(pmid) for pmid in gold_extractions[\"pmid\"].values]"
   ]
  },
  {
   "cell_type": "code",
   "execution_count": 7,
   "metadata": {
    "collapsed": false
   },
   "outputs": [
    {
     "name": "stdout",
     "output_type": "stream",
     "text": [
      "failed on 2619027 for expert! ref val: ???\n",
      "\n",
      "failed on 7853047 for expert! ref val: ???\n",
      "\n",
      "failed on 8018001 for crowd! arm responses: above_eight\n",
      "\n",
      "failed on 8018001 for expert! ref val: more than 8\n",
      "\n",
      "failed on 9549451 for crowd! arm responses: above_eight\n",
      "\n",
      "failed on 12069289 for expert! ref val: one?\n",
      "\n",
      "failed on 17855465 for expert! ref val: one?\n",
      "\n",
      "failed on 18851769 for expert! ref val: ???\n",
      "\n"
     ]
    }
   ],
   "source": [
    "# Byron's original code\n",
    "# Word2number package update a new error handling for invalid input \n",
    "# and it throws a string \"Error: Please enter a valid number word\" instead of the Exception\n",
    "# I fix the bug\n",
    "crowd_num_arms, reference_num_arms = {}, {}\n",
    "for pmid in all_pmids:\n",
    "    #print(\"on PMID: %s\" % pmid)\n",
    "    pmid_crowd_num_arms  = crowd_extractions[crowd_extractions[\"pmid\"] == pmid][\"arm_num\"].values\n",
    "    crowd_responses = []\n",
    "    for n_arms in pmid_crowd_num_arms:\n",
    "        w2n_number = w2n.word_to_num(n_arms)\n",
    "        if type(w2n_number) != type(1):\n",
    "            print(\"failed on %s for crowd! arm responses: %s\" % (pmid, n_arms))\n",
    "            print \n",
    "        else:\n",
    "            crowd_responses.append(w2n.word_to_num(n_arms)) #w2n.word_to_num(n_arms) for n_arms in pmid_crowd_num_arms\n",
    "    crowd_num_arms[pmid] = mode(crowd_responses)\n",
    "    \n",
    "    cur_ref_val = gold_extractions[gold_extractions[\"pmid\"] == pmid][\"arm_num_gold\"].values[0]\n",
    "    w2n_number = w2n.word_to_num(cur_ref_val)\n",
    "    if type(w2n_number) != type(1):\n",
    "        print(\"failed on %s for expert! ref val: %s\" % (pmid, cur_ref_val))\n",
    "        print\n",
    "    else:\n",
    "        reference_num_arms[pmid] = w2n.word_to_num(cur_ref_val)\n",
    "\n",
    "        # w2n.word_to_num(gold_extractions[gold_extractions[\"pmid\"] == int(pmid)][\"arm_num_gold\"])\n",
    "    #print()"
   ]
  },
  {
   "cell_type": "code",
   "execution_count": 8,
   "metadata": {
    "collapsed": false
   },
   "outputs": [
    {
     "name": "stdout",
     "output_type": "stream",
     "text": [
      "             precision    recall  f1-score   support\n",
      "\n",
      "          2       0.84      1.00      0.91        46\n",
      "          3       0.86      0.75      0.80         8\n",
      "          4       1.00      0.22      0.36         9\n",
      "          6       1.00      0.50      0.67         2\n",
      "          7       1.00      1.00      1.00         1\n",
      "\n",
      "avg / total       0.87      0.85      0.82        66\n",
      "\n"
     ]
    }
   ],
   "source": [
    "# Byron's original code\n",
    "y, y_hat = [], []\n",
    "for pmid in all_pmids:\n",
    "    if all([pmid in key_set for key_set in [reference_num_arms.keys(), \n",
    "                                                crowd_num_arms.keys()]]):\n",
    "        y.append(reference_num_arms[pmid])\n",
    "        y_hat.append(crowd_num_arms[pmid])\n",
    "\n",
    "print(classification_report(y, y_hat))"
   ]
  },
  {
   "cell_type": "code",
   "execution_count": 9,
   "metadata": {
    "collapsed": false
   },
   "outputs": [],
   "source": [
    "# Replace difficulty 'Nan' with -1 \n",
    "#crowd_extractions.difficulty.fillna(value=-1,inplace=True)\n",
    "#crowd_extractions.arm_num.value_counts(dropna=False)\n",
    "#gold_extractions.arm_num_gold.value_counts(dropna=False)"
   ]
  },
  {
   "cell_type": "code",
   "execution_count": 10,
   "metadata": {
    "collapsed": true
   },
   "outputs": [],
   "source": [
    "# find most common element in a list\n",
    "# function 'statistics.mode' will raise error when there are more than one most common element\n",
    "def most_common(l):\n",
    "    return Counter(l).most_common(1)[0][0]"
   ]
  },
  {
   "cell_type": "code",
   "execution_count": 11,
   "metadata": {
    "collapsed": true
   },
   "outputs": [],
   "source": [
    "# Convert string containing number to integer, e.g., \"24 year\" -> 24.0, \"above_eight\"->8.0 \n",
    "def Num_to_int(s):\n",
    "    try:\n",
    "        if np.isnan(s):\n",
    "            return -1.0\n",
    "    except TypeError:\n",
    "        pass\n",
    "    if isinstance(s, float) or isinstance(s, int):\n",
    "        return s\n",
    "    else:\n",
    "        s = s.encode('utf-8')\n",
    "    num_d = w2n.american_number_system\n",
    "    s = re.sub('[^0-9a-zA-Z.]+', ' ', s).strip()\n",
    "    l_num = re.findall(r\"[-+]?\\d*\\.\\d+|\\d+\",s)\n",
    "    if len(l_num) >= 1:\n",
    "        return float(l_num[0])\n",
    "    l_word = s.split(' ')\n",
    "    for word in l_word:\n",
    "        if word not in num_d:\n",
    "            l_word.remove(word)\n",
    "    s = ' '.join(l_word)\n",
    "    s = w2n.word_to_num(s)\n",
    "    if type(s) == type(1):\n",
    "        return float(s)\n",
    "    return -1.0"
   ]
  },
  {
   "cell_type": "code",
   "execution_count": 12,
   "metadata": {
    "collapsed": false
   },
   "outputs": [
    {
     "name": "stdout",
     "output_type": "stream",
     "text": [
      "8.0\n",
      "-1.0\n",
      "1.0\n",
      "8.0\n",
      "8.0\n",
      "8.0\n"
     ]
    }
   ],
   "source": [
    "print Num_to_int('above_eight')\n",
    "print Num_to_int('???')\n",
    "print Num_to_int('one?')\n",
    "print Num_to_int('more than 8')\n",
    "print Num_to_int('smaller than 8')\n",
    "print Num_to_int('8?')"
   ]
  },
  {
   "cell_type": "code",
   "execution_count": 13,
   "metadata": {
    "collapsed": true
   },
   "outputs": [],
   "source": [
    "# calculate the accuracy score of numerical fields\n",
    "def confusion_crowd_gold_1(crowd_extractions, gold_extractions, crowd_field, gold_field):\n",
    "    crowd_num_arms, reference_num_arms = {}, {}\n",
    "    for pmid in all_pmids:\n",
    "        if pmid not in crowd_extractions.pmid.unique().tolist():\n",
    "            continue\n",
    "        #print(\"on PMID: %s\" % pmid)\n",
    "        pmid_crowd_num_arms  = crowd_extractions[crowd_extractions[\"pmid\"] == pmid][crowd_field].values\n",
    "        crowd_responses = []\n",
    "        for n_arms in pmid_crowd_num_arms:\n",
    "            #w2n_number = w2n.word_to_num(n_arms)\n",
    "            w2n_number = Num_to_int(n_arms)\n",
    "            crowd_responses.append(w2n_number)\n",
    "        if len(crowd_responses)>0:\n",
    "            try:\n",
    "                crowd_num_arms[pmid] = mode(crowd_responses)\n",
    "            except:\n",
    "                crowd_num_arms[pmid] = most_common(crowd_responses)\n",
    "\n",
    "        cur_ref_val = gold_extractions[gold_extractions[\"pmid\"] == pmid][gold_field].values[0]\n",
    "        #w2n_number = w2n.word_to_num(cur_ref_val)\n",
    "        w2n_number = Num_to_int(cur_ref_val)\n",
    "        reference_num_arms[pmid] = w2n_number\n",
    "    y_gold, y_crowd = [], []\n",
    "    for pmid in all_pmids:\n",
    "        if all([pmid in key_set for key_set in [reference_num_arms.keys(), \n",
    "                                                    crowd_num_arms.keys()]]):\n",
    "            y_gold.append(reference_num_arms[pmid])\n",
    "            y_crowd.append(crowd_num_arms[pmid])\n",
    "\n",
    "    print \"crowd column is %s, gold column is %s \"%(crowd_field, gold_field)\n",
    "    print \"gold extraction\"\n",
    "    print y_gold\n",
    "    print \n",
    "    print \"crowd extraction\"\n",
    "    print y_crowd\n",
    "    print\n",
    "    accuracy = my_accuracy_score(y_gold, y_crowd)\n",
    "    print \"accuracy is %s\"%accuracy\n",
    "    #confusion_matrix = classification_report(y, y_hat)\n",
    "    #print confusion_matrix\n",
    "    return accuracy"
   ]
  },
  {
   "cell_type": "code",
   "execution_count": 14,
   "metadata": {
    "collapsed": false
   },
   "outputs": [
    {
     "data": {
      "text/plain": [
       "'\\nmatch_columns = [\\'difficulty\\']\\ndf = crowd_extractions[[\"pmid\",\"arm_num\", \"difficulty\"]].groupby(match_columns)\\nfor index, group in df:\\n    print \"-\"*20\\n    print index\\n    x = confusion_crowd_gold(group, gold_extractions) \\n'"
      ]
     },
     "execution_count": 14,
     "metadata": {},
     "output_type": "execute_result"
    }
   ],
   "source": [
    "\"\"\"\n",
    "match_columns = ['difficulty']\n",
    "df = crowd_extractions[[\"pmid\",\"arm_num\", \"difficulty\"]].groupby(match_columns)\n",
    "for index, group in df:\n",
    "    print \"-\"*20\n",
    "    print index\n",
    "    x = confusion_crowd_gold(group, gold_extractions) \n",
    "\"\"\"\n",
    "# Difficuly \"-1, 2, 3\" get better performance than average score as showed above. "
   ]
  },
  {
   "cell_type": "code",
   "execution_count": 15,
   "metadata": {
    "collapsed": false
   },
   "outputs": [
    {
     "name": "stdout",
     "output_type": "stream",
     "text": [
      "arm_num , arm_num_gold\n",
      "['two', 'four', 'three', 'seven', 'above_eight', 'six']\n",
      "[u'two ', u'two', u'four', u'???', u'three', u'seven', u'more than 8', u'six', u'one?']\n",
      "\n",
      "group_1_dose , group_1_dose\n",
      "[nan, 'n/a', 'vancomycin 450 mg/day, tobramycin 450 mg/day and colistin 4.5.10(6) units daily', 'ofloxacin 400 mg and amoxicillin 20 g', '0.5 mg', '70 mg/m2 intravenously', '70 mg/m2', '75 mg/die', '10 mg', '40 micrograms initially and 5 micrograms/h thereafter + placebo 0.5 ml', '140 micrograms initially and 5 micrograms/h thereafter + placebo 0.5 ml i.v.', '5mg/kg', '3.2 g of eicosapentaenoic acid and 2.2 g of docosahexaenoic acid', '3.2 g and 2.2 g', '25 mg', '0 mg', '2.6', '0, 2.5, 10, or 40 mg', '50 mg/kg', '4,500,000 allergy units', '15 mg/l', '15 mg/L', '100 mg', '800 mg', '800 micrograms', '50 micrograms', '40mg', '60 mg/d, 120 mg/d, 240 mg/d', '60 mg', '80mg', '400 microg', 'Unknown', '21 microg)', '44microg', '800 microg/day', '800microg', '2 mg', '4 minutes duration', '670/0.75;', '670/0.75', '0.3 mg', '2 x 20 mL 0.5% ropivacaine', '0.5 \\xc5\\x92\\xc2\\xbag/kg/', '0.5 \\xc5\\x92\\xc2\\xbag/kg/week']\n",
      "[nan, u'400 mg, 20 g', u'0.04 mg', u'3 mg', u'6 h', u'75 mg', u'140 mg, 5 mg', u'3.2 g, 2.2 g', u'25 mg', u'70 beats/min', u'0 mg', u'50 mg', u'approximately 4,500,000 allergy units', u'15 mg/L', u'100 mg', u'1000 micrograms', u'50 micrograms', u'40 mg', u'60 mg', u'doses were titrated at 12-week intervals to a maximum of 80 mg', u'fluticasone propionate (FP) (44 microg)/salmeterol (21 microg)', u'800 microg', u'2 mg', u'20 Hz for 4 mins', u'10 exercises, two to three sets/exercise', u'670/0.75', u'0.3 mg', u'20 mL ', u'0.5 \\x81\\xd5\\xe5\\xbcg/kg']\n",
      "\n",
      "group_1_intervention_name , group_1_intervention_name\n",
      "['Beclomethasone dipropionate', 'Beclomethasone dipropionate in pediatric perennial extrinsic rhinitis', 'beclomethasone dipropionate intranasal aerosol', 'BCG', 'BCG immunostimulation', 'BCG immunotherapy', 'Methotrexate', 'Methotrexate followed by radical irradiation', 'CPAP', 'continuous positive airway pressure (CPAP) therapy', 'serial CPAP', 'intervention', 'The impact of the Guidelines for a Healthy Diet of The Netherlands Nutrition Council on total and high density lipoprotein cholesterol', 'dietary intervention', 'goupI', 'Title Prophylaxis of bacterial infections after bone marrow transplantation', 'absorbable antibiotics  (OA)', 'terbutaline 0.5 mg', 'Comparison of inhaled terbutaline and inhaled terbutaline plus ipratropium bromide in acute asthmatic children.', 'Inhaled terbutaline', 'doxorubicin', 'metastatic soft-tissue sarcomas', 'NIDDM subjects', 'Impact of intensive educational approach to dietary change in NIDDM.', 'intensive educational approach to dietary change in NIDDM', 'intensive outpatient treatment clinic', 'Results of a program to reduce admissions for adult asthma.', 'Intensive outpatient treatment clinic', '6 h of normobaric oxygen (NBO)', 'normobaric and hyperbaric oxygen', '6h of normobaric oxygen', 'Prophylactic analgesia', 'Prophylactic analgesia for daycase termination of pregnancy', 'amitriptyline (', 'Fluoxetine', 'Amitriptyline', 'Acitretin', 'Acitretin and etretinate', 'Acitretin and etretinate in the treatment of palmoplantar pustulosis', 'TS adhesive,', 'transdermal scopolamine', 'TS adhesive', 'cyclosporin A (CyA)', 'asthma control with beclomethasone extrafine aerosol compared to fluticasone and budesonide.', 'CyA', '3.2 g of eicosapentaenoic acid and 2.2 g of docosahexaenoic acid', 'Effect of dietary supplementation with fish oil lipids on mild asthma', 'Eicosapentaenoic acid and docosahexaenoic acid', 'minimal-dose recipients', 'Dose of fluphenazine, familial expressed emotion, and outcome in schizophrenia.', 'standard dose of fluphenazine decanoate', 'ventricular pacing at 70 beats/min (VVI)', 'Optimum pacing mode for patients with angina pectoris.', 'RL group', 'Serum osmolar', 'Hyperrtonic crystalloid', 'DNA synthesis, hydroxyurea', 'Hydroxyurea', 'hydroxyurea', '0', 'pyridoxine X HCl supplementation', 'PN-HCl', 'CFP', 'chemotherapy programs in metastatic breast cancer', 'fluorouracil, cytoxan and prednisone', 'AV conduction,', 'Rate adaptive pacing in sick sinus syndrome', 'atrial rate adaptive (AAIR)', 'streptokinase treatment', 'Cumulative meta-analysis of clinical trials builds evidence', 'Unknown', 'Copper T380A', 'Contraceptive efficacy of the Copper T380A and the Multiload Cu250 IUD', 'Copper T380A (TCu380A)', 'bisoprolol', 'combination therapy in hypertension. Treatment with bisoprolol and hydrochlorothiazide.', nan, 'pivmecillinam', 'pivmecillinam and nalidixic acid', 'Pivmecillinam', 'subject', 'evaluation of sublingual immunotherapy with standardized cat extract.', 'standardized cat extract', 'high-iron content (15 mg/L)', 'Feeding iron-fortified premature formula during initial hospitalization to infants less than 1800 grams birth weight.', 'High-iron content premature formula', 'intervention participants', 'Comprehensive pharmaceutical care in the chain setting', 'Blood pressure and heart rate assessments and counseling on lifestyle modifications and drug therapy.', 'LTG 100', 'lamotrigine and carbamazepine', 'lamotrigine low', 'budesonide 800 micrograms twice daily', 'regular terbutaline', 'Budesonide', 'fluticasone propionate powder', 'y fluticasone propionate powder versus placebo in the treatment of moderate asthma.', 'omeprazole', 'Omeprazole', 'experimental homes', 'The impact of regular multidisciplinary team interventions', 'outreach', 'sodium salicylate', 'effectiveness of sodium diclofenac and sodium salicylate', 'iontophoresis of sodium diclofenac', 'Effects of the Heartbeat Wales programme', 'Heartbeat Wales programme', 'OPC-14117', \"Safety and tolerability of the free-radical scavenger OPC-14117 in Huntington's disease\", 'OPC-14117 low', 'atorvastatin', 'atorvastatin, fluvastatin, lovastatin, and simvastatin for lowering low-density lipoprotein (LDL)', 'alcohol cleaning', 'Alcohol versus natural drying for newborn cord care.', 'Alcohol versus natural drying', 'Russian live attenuated', 'Immunogenicity and efficacy of Russian live attenuated and US inactivated influenza vaccines', '1% chloroprocaine at 3-5-7-9', 'Comparison of paracervical block techniques during first trimester pregnancy termination.', 'paracervical block techniques', 'BDP-extrafine', 'beclomethasone dipropionate extrafine aerosol and fluticasone propionate.', 'Beclomethasone dipropionate extrafine aerosol', 'boys', 'cluster randomised controlled trial of a teacher led intervention.', 'teacher led intervention', 'CCAD', 'extracranial cervicocephalic arterial dissections', 'Anticoagulant therapy', 'nicotine patch therapy', 'Nicotine patch therapy', 'nonsmoking participants  assigned to bupropion or placebo', 'AV-fistula group', 'adjuvant AV-fistula on the patency of a femorocrural PTFE bypass with a distal vein cuff.', 'adjuvant AV-fistula  group (AVFG)', 'fluticasone propionate', 'Efficacy and safety of fluticasone propionate/salmeterol HFA 134A MDI', 'FSC', 'Qvar Autohaler 800 microg/day', '2 mg of nebulized budesonide', 'Budesonide offers no advantage when added to oral dexamethasone in the treatment of croup.', 'alendronate', 'alendronate on bone mineral density (BMD)', 'ALN+EX', 'LGG', 'Lactobacillus GG', 'Lactobacillus rhamnosus strain GG', 'surfactant group', 'effect of one dose of intratracheally administered surfactant followed by extubation to nasal continuous positive airway pressure (NCPAP) on subsequent mechanical ventilation (MV)', 'Surfactant', 'control (n = 14)', 'Strength training and detraining effects on muscular strength, anaerobic power, and mobility of inactive older men are intensity dependent.', 'strength training (ST)', 'hepatic artery', 'Hemodynamic profile and tissular oxygenation in orthotopic liver transplantation', 'Revascularization through the portal artery', 'locoregional anesthesia', 'General versus locoregional anesthesia in carotid surgery', 'locoregional anesthesia  (LA)', 'P falciparum,', 'dihydroartemisinin-piperaquine', 'artemether-lumefantrine', 'MI intervention', 'Preliminary feasibility and efficacy of a brief motivational intervention with psychophysiological feedback for cocaine abuse.', 'Motivational interviewing', 'DNR either as a 1-h', 'Daunorubicin (DNR)', 'Daunorubicin', 'homeless', 'Outcomes of a brief sexual health intervention', 'HES solution', 'Coagulation and biochemical effects of balanced salt-based high molecular weight vs saline-based low molecular weight hydroxyethyl starch solutions during the anhepatic period of liver transplantation.', 'balanced salt-based high molecular weight HES solution (', 'Bensal HP (QRB7) treatment group', 'Evaluation of Bensal HP', 'Bensal HP', 'na', 'Use of a time series design to test effectiveness of a theory-based intervention', 'oral', 'misoprostol', 'Misoprostol', 'pegaptanib sodium', 'safety and efficacy of intravitreous pegaptanib sodium for the treatment of macular edema following central retinal vein occlusion (CRVO).', 'TCC group', 'Effectiveness of removable walker cast versus nonremovable fiberglass', 'total contact cast [TCC]', 'Participants', 'Influence of caregiver and provider communication on symptom days and medication use for inner-city children with asthma.', 'caregiver-clinician asthma communication education intervention', 'TAP blocks', 'The transversus abdominis plane (TAP)', 'ropivacaine', 'point-of-care TEG analysis', 'Thromboelastography', 'thromboelastography (TEG)', 'peginterferon alfa-2b', 'hepatocellular carcinoma (HCC)', 'Control Groups HRC', 'Occlusal caries prevention in high and low risk schoolchildren']\n",
      "[u'beclomethasone dipropionate', u'BCG immunotherapy', u'methotrexate', u'continuous positive airway pressure (CPAP) therapy using a face mask', u'dietary intervention', u'a combination of ofloxacin and amoxicillin (OA) ', u'ipratropium bromide', u'vindesine ', u'an intensive educational approach incorporating longer time, greater simplicity, repetition, and cognitive motivational techniques', u'an intensive outpatient treatment clinic treated with a vigorous medical regimen and educational program', u'patients without initial impairment of consciousness receiving 6 h of normobaric oxygen (NBO) ', nan, u'amitriptyline', u'acitretin', u'transdermal scopolamine (TS) adhesive: 140 micrograms initially and 5 micrograms/h thereafter + placebo 0.5 ml i.v.', u'cyclosporin A (CyA)', u'eicosapentaenoic acid and docosahexaenoic acid', u'standard dose of fluphenazine decanoate', u'ventricular (VVI)', u'hypertonic crystalloid (HSL)', u'hydroxyurea', u'a daily vitamin B-6 supplement containing maternal pyridoxine X HCl (PN-HCl) ', u'fluorouracil, cytoxan and prednisone (CFP)', u'atrial rate adaptive mode (AAIR)', u'Copper T380A (TCu380A) ', u'pivmecillinam', u'sublingual immunotherapy with high-dose standardized cat extract ', u'high-iron content premature formula', u'comprehensive pharmacy services: blood pressure and heart rate assessments and counseling on lifestyle modifications and drug therapy', u'lamotrigine', u'terbutaline', u'Fluticasone propionate powder', u'omeprazole', u'experimental nursing homes: regular multidisciplinary team interventions on the quantity and quality of psychotropic drug prescribing', u'sodium diclofenac', u'A coordinated range of activities for heart health promotion in Wales entailing public education campaigns along with supportive policy and infrastructure change', u'OPC-14117', u'atorvastatin', u'umbilical cleansing with 70% isopropyl alcohol', u'Russian live attenuated trivalent influenza vaccines', u\"chloroprocaine at 3-5-7-9 o'clock positions\", u'beclomethasone dipropionate extrafine aerosol (BDP-extrafine)', u\"a teacher led intervention to improve teenagers' knowledge about emergency contraception\", u'Stroke Service for Cervicocephalic arterial dissections (CCAD)', u'bupropion among smoker', u'an adjuvant AV-fistula', u'fluticasone propionate and salmeterol (FSC) ', u'Qvar Autohaler ', u'nebulized budesonide ', u'whole-body vibration exercise  ', u'probiotic Lactobacillus rhamnosus strain GG (LGG)', u'intubation, surfactant treatment, and immediate extubation', u'low intensity training', u'revascularization was started through the hepatic artery (i.e., initial arterial revascularization) and 10 minutes later the portal vein was unclamped;', u'locoregional anesthesia (LA)', u'artemether-lumefantrine ', u'a two-session Motivational interviewing (MI) intervention', u'Daunorubicin (DNR) ', u'a short intervention to promote sexual health', u'a balanced salt-based high molecular weight hydroxyethyl starch (HES) solution', u'Bensal HP (QRB7)', u'misoprostol', u'intravitreous pegaptanib sodium', u'removable cast walker (Stabil-D)', u'asthma communication education intervention (ACE) ', u'transversus abdominis plane (TAP) block', u'monitored during surgery using point-of-care thromboelastography (TEG) analysis', u'peginterferon alfa-2b', u'(HRC) high caries risk children receiving oral health education (OHE) ']\n",
      "\n",
      "group_1_sample_size , group_1_sample_size\n",
      "[nan, '21', '39', '22', '10', '47', '170', '52', '12', 'n/a', '18', 'Unknown', '20', '27', '115', '41', '15', '88', '1974', '31', '149', '25', '14', '466', '85', '48', '33', '311']\n",
      "[nan, 21.0, 39.0, 17.0, 10.0, 66.0, 170.0, 26.0, 12.0, 34.0, 20.0, 27.0, 115.0, 16.0, 41.0, 15.0, 88.0, 31.0, 149.0, 25.0, 52.0, 18.0, 30.0, 85.0, 37.0, 33.0, 311.0]\n",
      "\n",
      "group_1_schedule , group_1_schedule\n",
      "[nan, 'n/a', 'Unknown', 'daily', 'Monthly', 'twice a day', 'two inhalations twice daily', 'alendronate daily 5mg + once a week vibration 20Hz', 'Twice', '1 hrs', '1-h', 'Every 6 weeks', 'once per week']\n",
      "[nan, u'15 minutes later', u'per m2', u'three times daily', u'once a week', u'one dose', u'twice', u'per week', u'every 3 months']\n",
      "\n",
      "group_2_dose , group_2_dose\n",
      "[nan, 'n/a', '400 mg/day and amoxicillin 20 g/day;', 'vancomycin 450 mg and tobramycin 450 mg and colistin 4.5.10(6) units', 'terbutaline 0.5 mg followed by ipratropium bromide 0.04', '0.5 mg and 0.04 mg', '70 mg/m2 intravenously', '3 mg/m2', '20 mg/die', '10 mg', '0.5 ml i.v. 5 min before the end of surgery; transdermal placebo adhesive preoperatively + DHBP 0.5 ml (1.25 mg) i.v. 5 min before the end of surgery', '0.5 ml (1.25 mg) i.v.', 'na', 'We', '3.8 mg', '2.6', '5', '0, 6.25, or 25 mg', '60 mg/kg', '3 mg/l', '3 mg/L', '200 mg', '200mg', '1000 mg', 'Unknown', '100 micrograms', '1 60 mg/d, 2 240 mg/d', '120 mg/', '80mg', '100 to 250 microg', '44mcog', '1000 microg/day', '1000 microg', '5 mg', '130/0.4', '1 mg', '0.9% saline']\n",
      "[nan, u'450 mg, 450 mg, 4.5.10(6) units', u'4 h', u'20 mg', u'0.5 ml (1.25 mg)', u'3.8 mg ', u'150 beats/min', u'2.6 mg', u'60 mg', u'3 mg/L', u'200 mg', u'100 micrograms', u'120 mg', u'doses were titrated at 12-week intervals to a maximum of 80 mg', u'1000 microg', u'10 exercises, two to three sets/exercise', u'130/0.4', u'1 mg']\n",
      "\n",
      "group_2_intervention_name , group_2_intervention_name\n",
      "['control', 'Beclomethasone dipropionate in pediatric perennial extrinsic rhinitis', nan, 'BCG immunostimulation', 'None', 'radiation therapy', 'Methotrexate', 'Radiation', 'continuous positive airway pressure (CPAP) therapy', 'high-flow face mask oxygen therapy without CPAP (control)', 'The impact of the Guidelines for a Healthy Diet of The Netherlands Nutrition Council on total and high density lipoprotein cholesterol', 'no  dietary intervention', 'group II', 'Title Prophylaxis of bacterial infections after bone marrow transplantation', 'oral nonabsorbable antibiotics  (VTC)', 'terbutaline 0.5 mg followed by ipratropium bromide 0.04', 'Comparison of inhaled terbutaline and inhaled terbutaline plus ipratropium bromide in acute asthmatic children.', 'inhaled terbutaline 0.5 mg followed by ipratropium bromide', 'doxorubicin', 'metastatic soft-tissue sarcomas', 'vindesine', 'conventional one', 'Impact of intensive educational approach to dietary change in NIDDM.', 'intensive educational approach to dietary change in NIDDM', 'previous outpatient care', 'Results of a program to reduce admissions for adult asthma.', 'Previous outpatient care', '2 h of hyperbaric oxygen (HBO)', 'normobaric and hyperbaric oxygen', '2 h of hyperbaric oxygen (HBO) at 2 atmospheres absolute (ATA) plus 4 h NBO', 'controlled release dihydrocodeine', 'Prophylactic analgesia', 'Prophylactic analgesia for daycase termination of pregnancy', 'fluoxetine (20 mg/die)', 'Fluoxetine', 'fluoxetine', 'etretinate', 'Acitretin and etretinate', 'Acitretin and etretinate in the treatment of palmoplantar pustulosis', 'placebo 0.5 ml i.v. 5 min before the end of surgery; transdermal placebo adhesive preoperatively + DHBP 0.5 ml (1.25 mg) i.v. 5 min before the end of surgery', 'transdermal scopolamine', 'transdermal placebo adhesive preoperatively + DHBP', 'placebo', 'asthma control with beclomethasone extrafine aerosol compared to fluticasone and budesonide.', 'Effect of dietary supplementation with fish oil lipids on mild asthma', 'Placebo,olive oil', 'standard-dose recipients', 'Dose of fluphenazine, familial expressed emotion, and outcome in schizophrenia.', 'minimal dose', 'atrioventricular synchronous upper rate 150 beats/min (DDD 150)', 'Optimum pacing mode for patients with angina pectoris.', 'HSL group', 'Serum osmolar', \"Ringer's lactate\", 'Hydroxyurea', '2.6', 'pyridoxine X HCl supplementation', 'PN-HCl', 'CFP-CA', 'chemotherapy programs in metastatic breast cancer', 'fluorouracil, cytoxan and Adriamycin', 'AAIR pacing', 'Rate adaptive pacing in sick sinus syndrome', 'dual chamber rate adaptive (DDDR)', 'streptokinase treatment', 'Cumulative meta-analysis of clinical trials builds evidence', 'Unknown', 'Multiload Cu250 IUD', 'Contraceptive efficacy of the Copper T380A and the Multiload Cu250 IUD', 'Multiload 250 (MLCu250)', 'hydrochlorothiazide', 'combination therapy in hypertension. Treatment with bisoprolol and hydrochlorothiazide.', 'nalidixic acid', 'pivmecillinam and nalidixic acid', 'nalidixic', 'evaluation of sublingual immunotherapy with standardized cat extract.', 'low-iron content (3 mg/L)', 'Feeding iron-fortified premature formula during initial hospitalization to infants less than 1800 grams birth weight.', 'Low-iron content premature formula', 'control subjects', 'Comprehensive pharmaceutical care in the chain setting', 'initial and final blood pressure measurements and minimal counseling', 'LGT 200', 'lamotrigine and carbamazepine', 'lamotrigine high', 'terbutaline 1000 micrograms three times daily', 'regular terbutaline', 'Placebo', 'y fluticasone propionate powder versus placebo in the treatment of moderate asthma.', 'fluticasone propionate powder', 'Omeprazole', 'control homes', 'The impact of regular multidisciplinary team interventions', 'sodium diclofenac.', 'effectiveness of sodium diclofenac and sodium salicylate', 'iontophoresis of sodium salicylate', 'Effects of the Heartbeat Wales programme', 'Heartbeat Wales programme', \"Safety and tolerability of the free-radical scavenger OPC-14117 in Huntington's disease\", 'OPC-14117 mid', 'fluvastatin', 'atorvastatin, fluvastatin, lovastatin, and simvastatin for lowering low-density lipoprotein (LDL)', 'lovastatin', 'Alcohol', 'Alcohol versus natural drying for newborn cord care.', 'Alcohol versus natural drying', 'US inactivated trivalent influenza vaccines a', 'Immunogenicity and efficacy of Russian live attenuated and US inactivated influenza vaccines', '1% chloroprocaine at 4-8', 'Comparison of paracervical block techniques during first trimester pregnancy termination.', 'paracervical block techniques', 'FP', 'beclomethasone dipropionate extrafine aerosol and fluticasone propionate.', 'fluticasone propionate', 'girls', 'cluster randomised controlled trial of a teacher led intervention.', 'no teacher led intervention', 'CCAD', 'extracranial cervicocephalic arterial dissections', 'Platelet anti-aggregants', 'bupropion', 'Nicotine patch therapy', 'smoking participants assigned to bupropion or placebo', 'control group (CG)', 'adjuvant AV-fistula on the patency of a femorocrural PTFE bypass with a distal vein cuff.', 'Efficacy and safety of fluticasone propionate/salmeterol HFA 134A MDI', 'fluticasone Diskus 1000 microg/day (n = 149)', 'fluticasone Diskus', 'Budesonide offers no advantage when added to oral dexamethasone in the treatment of croup.', 'Budesonide', 'alendronate plus exercise (ALN+EX)', 'alendronate on bone mineral density (BMD)', 'alendronate ALN', 'Lactobacillus GG', 'control group', 'effect of one dose of intratracheally administered surfactant followed by extubation to nasal continuous positive airway pressure (NCPAP) on subsequent mechanical ventilation (MV)', 'No intervention', ', low intensity training (LIST; n = 18; 55% 1RM),', 'Strength training and detraining effects on muscular strength, anaerobic power, and mobility of inactive older men are intensity dependent.', 'strength training (ST)', 'portal vein revascularization', 'n/a', 'Revascularization through the hepatic artery', 'general anesthesia', 'General versus locoregional anesthesia in carotid surgery', 'general anesthesia (GA)', 'P vivax,', 'artemether-lumefantrine', 'dihydroartemisinin-piperaquine', 'minimal control condition', 'Preliminary feasibility and efficacy of a brief motivational intervention with psychophysiological feedback for cocaine abuse.', 'Minimal control condition', '24-h infusion', 'Daunorubicin (DNR)', 'Daunorubicin', 'na', 'Outcomes of a brief sexual health intervention', 'saline-based low molecular weight HES solution (130/0.4; low MW group)', 'Coagulation and biochemical effects of balanced salt-based high molecular weight vs saline-based low molecular weight hydroxyethyl starch solutions during the anhepatic period of liver transplantation.', 'saline-based low molecular weight HES solution', 'SSC control group', 'Evaluation of Bensal HP', 'Silver  cream', 'Use of a time series design to test effectiveness of a theory-based intervention', 'sublingual', 'misoprostol', 'Misoprostol', '1 mg', 'safety and efficacy of intravitreous pegaptanib sodium for the treatment of macular edema following central retinal vein occlusion (CRVO).', 'pegaptanib sodium', 'Stabil-D group', 'Effectiveness of removable walker cast versus nonremovable fiberglass', 'walker cast Stabil-D', 'Influence of caregiver and provider communication on symptom days and medication use for inner-city children with asthma.', 'asthma education control group (CON)', '0.9% saline', 'The transversus abdominis plane (TAP)', 'control - saline', 'standard laboratory measures of blood coagulation', 'Thromboelastography', 'thromboelastography (TEG)', '315', 'hepatocellular carcinoma (HCC)', 'no treatment', 'children receiving oral health education (OHE) every 3 months', 'Occlusal caries prevention in high and low risk schoolchildren']\n",
      "[u'placebo', u'control', u'high-flow face mask oxygen therapy without CPAP (control) ', u'control ', u'the oral nonabsorbable antibiotics vancomycin, tobramycin, colistin (VTC)  ', u'a conventional one', u'previous outpatient care', u'patients without initial impairment of consciousness receiving 2 h of hyperbaric oxygen (HBO) at 2 atmospheres absolute (ATA) plus 4 h NBO ', nan, u'fluoxetine', u'etretinate', u'transdermal placebo adhesive preoperatively + DHBP 0.5 ml (1.25 mg) i.v.', u'placebo capsules containing olive oil', u'a minimal dose representing 20% of the dose prescribed', u'atrioventricular synchronous upper rate 150 beats/min (DDD 150) ', u\"Ringer's lactate (RL)\", u'a daily vitamin B-6 supplement containing maternal pyridoxine X HCl (PN-HCl) ', u'fluorouracil, cytoxan and Adriamycin (CAF)', u'dual chamber rate adaptive mode (DDDR)', u'Multiload 250 (MLCu250) ', u'nalidixic acid', u'a matching placebo', u'low-iron content premature formula', u'Control patients received initial and final blood pressure measurements and minimal counseling', u'lamotrigine', u'Fluticasone propionate powder', u'control group', u'sodium salicylate', u'a matched reference area in north east England: In the reference area no additional community heart health promotion was planned', u'OPC-14117', u'lovastatin', u'natural drying of the umbilical site without special treatment', u'US inactivated trivalent influenza vaccines', u\"chloroprocaine at 4-8 o'clock positions\", u'fluticasone propionate (FP)', u'bupropion among non-smoker', u'placebo (PLA)', u'fluticasone Diskus', u'high intensity training', u'revascularization was started through the portal vein (i.e., initial portal revascularization) and 10 minutes later the hepatic artery was unclamped.', u'general anesthesia (GA)', u'dihydroartemisinin-piperaquine', u'Daunorubicin (DNR) ', u'a saline-based low molecular weight hydroxyethyl starch (HES) solution', u'silver sulfadiazine cream (SSC)', u'misoprostol', u'intravitreous pegaptanib sodium', u'nonremovable fiberglass off-bearing cast (TCC)', u'asthma education control group (CON)', u'monitored during surgery using standard laboratory measures of blood coagulation', u'(LRC) low caries risk children receiving oral health education (OHE) ']\n",
      "\n",
      "group_2_sample_size , group_2_sample_size\n",
      "[nan, '19', '31', '41', '22', '10', '57', '173', '26', '8', 'n/a', '40', 'Unknown', '21', '111', '44', '18', '20', '84', '1820', '9', '28', '149', '25', '36', '53', '175', '93', '74', '33', '13', 'placebo', '315']\n",
      "[nan, 19.0, 41.0, 20.0, 10.0, 38.0, 173.0, 26.0, 8.0, 37.0, 21.0, 111.0, 16.0, 44.0, 18.0, 28.0, 149.0, 25.0, 36.0, 53.0, 30.0, 93.0, 33.0, 315.0]\n",
      "\n",
      "group_3_intervention_name , group_3_intervention_name\n",
      "[nan, 'HBO (group B1, n = 145)', 'transdermal placebo + 0.5 ml placebo', 'transdermal placebo + 0.5 ml placebo i.v.', '100 beats/min (DDD 100).', 'atrioventricular synchronous 100 beats/min (DDD 100)', '5', 'PN-HCl', 'CA', 'chemotherapy programs in metastatic breast cancer', 'cytoxan and Adriamycin', 'ventricular rate adaptive (VVIR)', 'milk mixed with an equal volume of liquid fortifier resulting in an iron content of approximately 1.7 mg/L.', 'human milk mixed with an equal volume of liquid fortifier', 'CBZ 600', 'carbamazepine', 'placebo', 'fluticasone propionate powder', 'OPC-14117 high', 'lovastatin', 'fluvastatin', 'Immunogenicity and efficacy of Russian live attenuated and US inactivated influenza vaccines', 'saline at 3-5-7-9', 'S - salmeterol', 'Turbuhaler 1600 microg/day (n = 162)', 'budesonide Turbuhaler', 'high intensity training (HIST; n = 20; 82% 1RM) group', 'mixture of both species', 'sham-treated', 'Sham injection', 'children receiving oral health education (OHE) every 3 months', 'Occlusal caries prevention in high and low risk schoolchildren']\n",
      "[nan, u'patients with initial impairment of consciousness receiving one session 4 h of HBO', u'transdermal placebo + 0.5 ml placebo i.v. ', u'atrioventricular synchronous upper rate 100 beats/min (DDD 100)', u'a daily vitamin B-6 supplement containing maternal pyridoxine X HCl (PN-HCl) ', u'cytoxan and Adriamycin (CA)', u'ventricular rate adaptive (VVIR) mode', u'human milk mixed with an equal volume of liquid fortifier', u'carbamazepine', u'Fluticasone propionate powder', u'OPC-14117', u'fluvastatin', u'placebo', u\"saline at 3-5-7-9 o'clock positions\", u'placebo among smoker', u'fluticasone propionate chlorofluorocarbon (FP)', u'budesonide Turbuhaler', u'control', u'control (sham injections)', u'(HRV) high caries risk children receiving OHE plus varnish application (Durapha)']\n",
      "\n",
      "share_duration , share_duration\n",
      "['na', nan, 'n/a', 'Unknown', '5 year', '5 years', '24 hours', '2 years', 'study period 3 hrs', '26 week', '1 year', '56 weeks', '30 days', '15 days', '9.9 months', '9.4 months', 'not stated', '32 month', '32-month', '1 month', '6 hours', '5 week', '5 weeks.', '5 weeks', '12 week', '4 weeks', '12 weeks', '4 month', '4 months', '10 weeks', '2 year', 'two years', 'one month', '3 months', '5.2 to 9.2 years', '54 months', '24 hrs', '30 weeks', '12 months', '12-week', '5 days', '105 days', '8 week', '8 weeks', '24 weeks', '14 days', 'twice daily', '2 weeks', '12 month', '5 year effects', '20 weeks', 'Daily', '54 weeks', '54 week', '6 week', '6 weeks.', '6 weeks', '6 months', 'six months', '6 years', '12 hours', '6 month', '12 months.', '2 years.', '24 week', '10 min', '10 minutes', '42 days', 'followed up at 42 days', '12.3 years.', '30 min', '63 days', '30 week', '90 days', '3 year', '24 month', '24 months']\n",
      "[u'a week', nan, u'3-hour', u'26 weeks', u'6 hours', u'five weeks', u'12 weeks', u'4 months', u'10 weeks', u'one month', u'12 months', u'5 days', u'105 days', u'24 weeks', u'two periods of 14 days', u'two weeks', u'5 years', u'20 weeks', u'54 weeks', u'6 weeks', u'58 months', u'42 days', u'30 weeks', u'90 days', u'24 months']\n",
      "\n",
      "shared_duration_yn , shared_duration_yn\n",
      "[True, nan]\n",
      "[True, nan]\n",
      "\n",
      "shared_intervention_name , shared_intervention_name\n",
      "['Beclomethasone dipropionate in pediatric perennial extrinsic rhinitis.', 'Beclomethasone dipropionate in pediatric perennial extrinsic rhinitis', nan, \"Failure of BCG immunostimulation to affect the clinical course of Burkitt's lymphoma.\", 'BCG immunostimulation', 'Methotrexate and radiation therapy in the treatment of advanced head and neck tumors.', 'Methotrexate', 'The efficacy of early continuous positive airway pressure therapy in patients with acute cardiogenic pulmonary edema.', 'continuous positive airway pressure (CPAP) therapy', 'The impact of the Guidelines for a Healthy Diet of The Netherlands Nutrition Council on total and high density lipoprotein cholesterol in hypercholesterolemic free-living men.', 'The impact of the Guidelines for a Healthy Diet of The Netherlands Nutrition Council on total and high density lipoprotein cholesterol', 'Prophylaxis of bacterial infections after bone marrow transplantation. A randomized prospective study comparing oral broad-spectrum nonabsorbable antibiotics (vancomycin-tobramycin-colistin) to absorbable antibiotics (ofloxacin-amoxicillin).', 'Title Prophylaxis of bacterial infections after bone marrow transplantation', 'Comparison of inhaled terbutaline and inhaled terbutaline plus ipratropium bromide in acute asthmatic children.', 'Randomized comparison of doxorubicin and vindesine to doxorubicin for patients with metastatic soft-tissue sarcomas.', 'metastatic soft-tissue sarcomas', 'Impact of intensive educational approach to dietary change in NIDDM.', 'intensive educational approach to dietary change in NIDDM', 'Results of a program to reduce admissions for adult asthma.', 'Trial of normobaric and hyperbaric oxygen for acute carbon monoxide intoxication.', 'normobaric and hyperbaric oxygen', 'Prophylactic analgesia for daycase termination of pregnancy. A double-blind study with controlled release dihydrocodeine.', 'Prophylactic analgesia', 'Prophylactic analgesia for daycase termination of pregnancy', 'Fluoxetine compared with amitriptyline in elderly depression: a controlled clinical trial.', 'Fluoxetine', 'Acitretin and etretinate in the treatment of palmoplantar pustulosis: a double-blind comparative trial.', 'Acitretin and etretinate', 'Acitretin and etretinate in the treatment of palmoplantar pustulosis', 'Double-blind comparison of transdermal scopolamine, droperidol and placebo against postoperative nausea and vomiting.', 'transdermal scopolamine', 'Cyclosporin in rheumatoid arthritis: a double blind, placebo controlled study in 52 patients.', 'asthma control with beclomethasone extrafine aerosol compared to fluticasone and budesonide.', 'Effect of dietary supplementation with fish oil lipids on mild asthma.', 'Effect of dietary supplementation with fish oil lipids on mild asthma', 'Dose of fluphenazine, familial expressed emotion, and outcome in schizophrenia. Results of a two-year controlled study.', 'Dose of fluphenazine, familial expressed emotion, and outcome in schizophrenia.', 'Optimum pacing mode for patients with angina pectoris.', 'Serum osmolar and electrolyte changes associated with large infusions of hypertonic sodium lactate for intravascular volume expansion of patients undergoing aortic reconstruction.', 'Serum osmolar', 'Hydroxyurea: a radiation potentiator in carcinoma of the uterine cervix. A randomized double-blind study.', 'Hydroxyurea', 'Effect of maternal pyridoxine X HCl supplementation on the vitamin B-6 status of mother and infant and on pregnancy outcome.', 'pyridoxine X HCl supplementation', 'PN-HCL', 'Comparison of four-combination chemotherapy programs in metastatic breast cancer: comparison of multiple drug therapy with cytoxan, 5-FU and prednisone versus cytoxan and adriamycin, versus cytoxan, 5-FU and adriamycin, versus cytoxan, 5-FU and prednisone alternating with cytoxan and adriamycin.', 'chemotherapy programs in metastatic breast cancer', 'Rate adaptive pacing in sick sinus syndrome: effects of pacing modes and intrinsic conduction on physiological responses, arrhythmias, symptomatology and quality of life.', 'Rate adaptive pacing in sick sinus syndrome', 'rate adaptive pacing', 'Cumulative meta-analysis of clinical trials builds evidence for exemplary medical care.', 'Cumulative meta-analysis of clinical trials builds evidence', 'Unknown', 'Contraceptive efficacy of the Copper T380A and the Multiload Cu250 IUD in three developing countries.', 'Contraceptive efficacy of the Copper T380A and the Multiload Cu250 IUD', 'A multifactorial trial design to assess combination therapy in hypertension. Treatment with bisoprolol and hydrochlorothiazide.', 'combination therapy in hypertension. Treatment with bisoprolol and hydrochlorothiazide.', 'Comparison of pivmecillinam and nalidixic acid in the treatment of acute shigellosis in children.', 'pivmecillinam and nalidixic acid', 'A double-blind, placebo-controlled evaluation of sublingual immunotherapy with standardized cat extract.', 'evaluation of sublingual immunotherapy with standardized cat extract.', 'Feeding iron-fortified premature formula during initial hospitalization to infants less than 1800 grams birth weight.', 'Comprehensive pharmaceutical care in the chain setting.', 'Comprehensive pharmaceutical care in the chain setting', 'A randomised open multicentre comparative trial of lamotrigine and carbamazepine as monotherapy in patients with newly diagnosed or recurrent epilepsy.', 'lamotrigine and carbamazepine', 'Effect of regular terbutaline on the airway response to inhaled budesonide.', 'regular terbutaline', 'Comparative efficacy and safety of twice daily fluticasone propionate powder versus placebo in the treatment of moderate asthma.', 'y fluticasone propionate powder versus placebo in the treatment of moderate asthma.', 'Omeprazole as a diagnostic tool in gastroesophageal reflux disease.', 'Omeprazole', 'The impact of regular multidisciplinary team interventions on psychotropic prescribing in Swedish nursing homes.', 'The impact of regular multidisciplinary team interventions', 'The treatment of lateral epicondylitis by iontophoresis of sodium salicylate and sodium diclofenac.', 'effectiveness of sodium diclofenac and sodium salicylate', 'Effects of the Heartbeat Wales programme', 'Heartbeat Wales programme', \"Safety and tolerability of the free-radical scavenger OPC-14117 in Huntington's disease\", 'Treating to meet NCEP-recommended LDL cholesterol concentrations with atorvastatin, fluvastatin, lovastatin, or simvastatin in patients with risk factors for coronary heart disease.', 'atorvastatin, fluvastatin, lovastatin, and simvastatin for lowering low-density lipoprotein (LDL)', 'Alcohol versus natural drying for newborn cord care.', 'Alcohol versus natural drying', 'Immunogenicity and efficacy of Russian live attenuated and US inactivated influenza vaccines used alone and in combination in nursing home residents.', 'Immunogenicity and efficacy of Russian live attenuated and US inactivated influenza vaccines', 'Comparison of paracervical block techniques during first trimester pregnancy termination.', 'paracervical block techniques', 'A randomized, double-blind comparison of beclomethasone dipropionate extrafine aerosol and fluticasone propionate.', 'beclomethasone dipropionate extrafine aerosol and fluticasone propionate.', \"Improving teenagers' knowledge of emergency contraception: cluster randomised controlled trial of a teacher led intervention.\", 'cluster randomised controlled trial of a teacher led intervention.', 'Outcome of extracranial cervicocephalic arterial dissections: a follow-up study.', 'extracranial cervicocephalic arterial dissections', 'Nicotine patch therapy based on smoking rate followed by bupropion for prevention of relapse to smoking.', 'Nicotine patch therapy', 'Does an adjuvant AV-fistula improve the patency of a femorocrural PTFE bypass with distal vein cuff in critical leg ischaemia?--a prospective randomised multicentre trial.', 'adjuvant AV-fistula on the patency of a femorocrural PTFE bypass with a distal vein cuff.', 'Efficacy and safety of fluticasone propionate/salmeterol HFA 134A MDI in patients with mild-to-moderate persistent asthma.', 'Efficacy and safety of fluticasone propionate/salmeterol HFA 134A MDI', 'Improvement of asthma control with beclomethasone extrafine aerosol compared to fluticasone and budesonide.', 'Budesonide offers no advantage when added to oral dexamethasone in the treatment of croup.', 'Budesonide', 'Effect of whole-body vibration exercise on lumbar bone mineral density, bone turnover, and chronic back pain in post-menopausal osteoporotic women treated with alendronate.', 'alendronate on bone mineral density (BMD)', \"A randomized, double-blind trial of Lactobacillus GG versus placebo in addition to standard maintenance therapy for children with Crohn's disease.\", 'Lactobacillus GG', \"Surfactant administration by transient intubation in infants 29 to 35 weeks' gestation with respiratory distress syndrome decreases the likelihood of later mechanical ventilation: a randomized controlled trial.\", 'effect of one dose of intratracheally administered surfactant followed by extubation to nasal continuous positive airway pressure (NCPAP) on subsequent mechanical ventilation (MV)', 'Strength training and detraining effects on muscular strength, anaerobic power, and mobility of inactive older men are intensity dependent.', 'strength training (ST)', 'Hemodynamic profile and tissular oxygenation in orthotopic liver transplantation: Influence of hepatic artery or portal vein revascularization of the graft.', 'Hemodynamic profile and tissular oxygenation in orthotopic liver transplantation', 'General versus locoregional anesthesia in carotid surgery: a prospective randomised trial.', 'General versus locoregional anesthesia in carotid surgery', 'Two fixed-dose artemisinin combinations for drug-resistant falciparum and vivax malaria in Papua, Indonesia: an open-label randomised comparison.', 'dihydroartemisinin-piperaquine', 'Preliminary feasibility and efficacy of a brief motivational intervention with psychophysiological feedback for cocaine abuse.', 'Daunorubicin-induced cell kill with 1-hour versus 24-hour infusions: a randomized comparison in children with newly diagnosed acute lymphoblastic leukemia.', 'Daunorubicin (DNR)', 'Daunorubicin', 'Outcomes of a brief sexual health intervention for homeless youth.', 'Outcomes of a brief sexual health intervention', 'Coagulation and biochemical effects of balanced salt-based high molecular weight vs saline-based low molecular weight hydroxyethyl starch solutions during the anhepatic period of liver transplantation.', 'Evaluation of Bensal HP for the treatment of diabetic foot ulcers.', 'Evaluation of Bensal HP', 'streptokinase treatment', 'Use of a time series design to test effectiveness of a theory-based intervention', \"Two-pill regimens of misoprostol after mifepristone medical abortion through 63 days' gestational age: a randomized controlled trial of sublingual and oral misoprostol.\", 'misoprostol', 'Misoprostol', 'Pegaptanib sodium for macular edema secondary to central retinal vein occlusion.', 'safety and efficacy of intravitreous pegaptanib sodium for the treatment of macular edema following central retinal vein occlusion (CRVO).', 'cyclosporin A (CyA)', 'Effectiveness of removable walker cast versus nonremovable fiberglass', 'Influence of caregiver and provider communication on symptom days and medication use for inner-city children with asthma.', 'Transversus abdominis plane block does not provide additional benefit to multimodal analgesia in gynecological cancer surgery.', 'The transversus abdominis plane (TAP)', 'Thromboelastography-guided transfusion decreases intraoperative blood transfusion during orthotopic liver transplantation: randomized clinical trial.', 'Thromboelastography', 'thromboelastography (TEG)', 'Maintenance therapy with peginterferon alfa-2b does not prevent hepatocellular carcinoma in cirrhotic patients with chronic hepatitis C.', 'hepatocellular carcinoma (HCC)', 'Occlusal caries prevention in high and low risk schoolchildren. A clinical trial.', 'Occlusal caries prevention in high and low risk schoolchildren']\n",
      "[nan, u'radical irradiation', u'laminar air flow (LAF) rooms', u'inhaled terbutaline  0.5 mg', u'doxorubicin (70 mg/m2 intravenously) ', u'Oxycodone i.m. and glycopyrrolate i.v.', u'budesonide 800 micrograms twice daily ', u'infrared treatment', u'Tailored nicotine patch', u'a femocrural PTFE bypass and distal vein cuff', u'a single oral dose of 0.15 mg/kg dexamethasone', u'alendronate 5 mg daily', u'standard therapy', u'nasal continuous positive airway pressure (NCPAP)', u'200 mg of mifepristone']\n",
      "\n",
      "shared_intervention_name_yn , shared_intervention_name_yn\n",
      "[True, nan]\n",
      "[nan, True]\n",
      "\n",
      "shared_intervention_type , shared_intervention_type\n",
      "['Pharmacological', nan, 'Not Sure', 'Medical Devices', 'Behavioral', 'Educational', 'Resources and Infrastructure', 'Psychological', 'Surgical', 'Cellular and Gene', 'Screening', 'Physical', 'Vaccines', 'Radiotherapy']\n",
      "[u'Pharmacological', nan, u'Medical Devices', u'Behavioral', u'Educational', u'Other', u'Surgical', u'Physical']\n",
      "\n",
      "shared_intervention_type_yn , shared_intervention_type_yn\n",
      "[True, nan]\n",
      "[True, nan]\n",
      "\n",
      "shared_route , shared_route\n",
      "['na', nan, 'n/a', 'Unknown', 'face mask', 'oral', 'inhaled', 'Inhalation', 'intravenously', 'intravenous', 'iv', 'not stated', 'Orally', 'Na', 'programmable pacemaker', 'programmed', 'intruterine', 'sublingual', 'None', 'Breath-actuated inhalation device', 'meetins', 'saline', 'inhalations', 'inhalation', 'worn on foot', 'injected, ultrasound guided']\n",
      "[nan, u'intravenously', u'transdermal and intravenous ', u'intrauterine', u'oral', u'inhaled', u'iontophoresis', u'placement in paracervical blocks', u'inhalation', u'inhale', u'infusion', u'external use', u'injection', u'inject']\n",
      "\n",
      "shared_route_yn , shared_route_yn\n",
      "[True, nan]\n",
      "[nan, True]\n",
      "\n",
      "shared_sample_size , shared_sample_size\n",
      "['30', nan, '40', '96', 'Unknown', '80', '55', '44', '44 entered, but some excluded due to resistant bacteria', '20', '10', '347', '298', '70', '350', '104', '629', '28', '60', 'na', '52', 'not stated', '126', '15', 'n/a', 'None', '512', '41', '53', '343', '16', '342', '98', '1854', '31583', '64', '56 completed', '344', '1876', '1,876', '614', '82', '88', '3794', '1974 boys and 1820 girls', '26', '27', '578', '59', '360', '460', '72', '50', '75', '105', '186', '774', '31', '178', '572', '122', '48', '480', '65', '45', '231', '626', '268']\n",
      "[u'60', nan, u'96', u'55', u'298', u'70', u'40', u'28', u'10', u'52', u'126', u'15', u'512', u'342', u'56', u'344', u'1,811', u'614', u'82', u'3794', u'27', u'578', u'360', u'72', u'186', u'774', u'31', u'178', u'572', u'480', u'45', u'231', u'65', u'268']\n",
      "\n",
      "shared_sample_size_yn , shared_sample_size_yn\n",
      "[True, nan]\n",
      "[True, nan]\n",
      "\n",
      "shared_schedule , shared_schedule\n",
      "['na', nan, 'n/a', 'Unknown', 'not stated', 'daily', 'every 3 weeks', 'once every three weeks', 'Daily', 'every two weeks', 'continuous pacing, change monthly', 'once-daily', 'twice daily', 'Twice daily', 'every 12 weeks', 'daily once', 'every 2 hours', 'twice a day', 'every 6 weeks', 'continual', 'during surgery', 'week', '3 month', 'every 3 months']\n",
      "[nan, u'daily', u'every three hours', u'every 3 weeks', u'4 weeks of therapy with three 10 mg capsules/day followed by 8 weeks of therapy with a varying number of capsules given daily according to therapeutic response', u'5 min before the end of surgery', u'per kg daily', u'every two weeks', u'monthly', u'twice daily', u'at each diaper change', u'a single lesson', u'two inhalations twice daily', u'single dose', u'every 6 weeks']\n",
      "\n",
      "shared_schedule_yn , shared_schedule_yn\n",
      "[True, nan]\n",
      "[nan, True]\n",
      "\n"
     ]
    }
   ],
   "source": [
    "# view the comtent of extractions\n",
    "all_value = []\n",
    "for key in crowd_extractions.columns.values:\n",
    "    if key in crowd_gold_columns:\n",
    "        print key,\",\", crowd_gold_columns[key]\n",
    "        print crowd_extractions[key].unique().tolist()\n",
    "        print gold_extractions[crowd_gold_columns[key]].unique().tolist()\n",
    "        print"
   ]
  },
  {
   "cell_type": "code",
   "execution_count": 16,
   "metadata": {
    "collapsed": false
   },
   "outputs": [
    {
     "name": "stdout",
     "output_type": "stream",
     "text": [
      "crowd column is arm_num, gold column is arm_num_gold \n",
      "gold extraction\n",
      "[2.0, 2.0, 2.0, 2.0, 2.0, 2.0, 2.0, 2.0, 2.0, 2.0, 4.0, -1.0, 2.0, 2.0, 3.0, 2.0, 2.0, 2.0, 3.0, 2.0, 2.0, 7.0, 4.0, 3.0, -1.0, 2.0, 8.0, 2.0, 2.0, 3.0, 2.0, 3.0, 2.0, 4.0, 2.0, 2.0, 2.0, 4.0, 4.0, 4.0, 2.0, 6.0, 4.0, 2.0, 2.0, 1.0, 4.0, 2.0, 4.0, 3.0, 2.0, 2.0, 2.0, 2.0, 3.0, 2.0, 2.0, 2.0, 2.0, 2.0, 1.0, 2.0, 2.0, -1.0, 2.0, 3.0, 2.0, 2.0, 2.0, 2.0, 2.0, 6.0]\n",
      "\n",
      "crowd extraction\n",
      "[2.0, 2.0, 2.0, 2.0, 2.0, 2.0, 2.0, 2.0, 2.0, 2.0, 2.0, 2.0, 2.0, 2.0, 3.0, 2.0, 2.0, 2.0, 3.0, 2.0, 2.0, 7.0, 4.0, 2.0, 2.0, 2.0, 2.0, 2.0, 2.0, 3.0, 2.0, 3.0, 2.0, 2.0, 2.0, 2.0, 2.0, 2.0, 2.0, 4.0, 2.0, 3.0, 2.0, 2.0, 2.0, 2.0, 2.0, 2.0, 2.0, 3.0, 2.0, 2.0, 2.0, 2.0, 2.0, 2.0, 2.0, 2.0, 2.0, 2.0, 2.0, 2.0, 2.0, 2.0, 2.0, 3.0, 2.0, 2.0, 2.0, 2.0, 2.0, 6.0]\n",
      "\n",
      "accuracy is 0.777777777778\n",
      "------------------------------\n",
      "crowd column is shared_sample_size, gold column is shared_sample_size \n",
      "gold extraction\n",
      "[60.0, -1.0, 96.0, 55.0, -1.0, -1.0, -1.0, 298.0, 70.0, -1.0, -1.0, 40.0, 28.0, 60.0, 96.0, -1.0, -1.0, 70.0, 10.0, 52.0, 40.0, -1.0, 126.0, 15.0, -1.0, -1.0, 512.0, -1.0, -1.0, -1.0, -1.0, -1.0, -1.0, 342.0, -1.0, -1.0, -1.0, -1.0, 56.0, 344.0, 1.0, 614.0, 82.0, -1.0, 3794.0, 27.0, 578.0, -1.0, 360.0, -1.0, 72.0, -1.0, -1.0, -1.0, -1.0, -1.0, 186.0, 774.0, 31.0, 178.0, 572.0, -1.0, 40.0, -1.0, 480.0, -1.0, 45.0, 231.0, 65.0, 28.0, -1.0, 268.0]\n",
      "\n",
      "crowd extraction\n",
      "[30.0, -1.0, 96.0, 80.0, -1.0, 44.0, 10.0, 347.0, 350.0, -1.0, -1.0, 40.0, 28.0, 60.0, -1.0, 52.0, -1.0, 70.0, 10.0, 52.0, 40.0, -1.0, -1.0, 15.0, -1.0, -1.0, 512.0, 80.0, -1.0, -1.0, -1.0, -1.0, 16.0, 342.0, 98.0, 1854.0, -1.0, 31583.0, 64.0, 344.0, 1876.0, 614.0, 82.0, -1.0, 3794.0, 26.0, 578.0, -1.0, 360.0, -1.0, 72.0, 50.0, -1.0, -1.0, 52.0, 30.0, 186.0, 774.0, 31.0, -1.0, 572.0, -1.0, -1.0, -1.0, 480.0, -1.0, 45.0, 231.0, 65.0, 28.0, -1.0, 268.0]\n",
      "\n",
      "accuracy is 0.694444444444\n",
      "------------------------------\n",
      "crowd column is group_1_sample_size, gold column is group_1_sample_size \n",
      "gold extraction\n",
      "[-1.0, 21.0, -1.0, -1.0, 39.0, 17.0, 10.0, -1.0, -1.0, 66.0, 170.0, -1.0, -1.0, -1.0, -1.0, 26.0, 12.0, -1.0, -1.0, -1.0, -1.0, -1.0, -1.0, -1.0, -1.0, -1.0, -1.0, 34.0, 20.0, -1.0, 27.0, 115.0, 16.0, -1.0, 41.0, 15.0, 20.0, -1.0, -1.0, -1.0, -1.0, -1.0, -1.0, 88.0, -1.0, -1.0, -1.0, 31.0, -1.0, 149.0, -1.0, 25.0, 39.0, 52.0, 18.0, 30.0, -1.0, -1.0, -1.0, 85.0, -1.0, 37.0, -1.0, -1.0, -1.0, 33.0, -1.0, -1.0, -1.0, -1.0, 311.0, -1.0]\n",
      "\n",
      "crowd extraction\n",
      "[-1.0, 21.0, -1.0, -1.0, 39.0, -1.0, -1.0, -1.0, -1.0, 47.0, 170.0, -1.0, -1.0, -1.0, -1.0, -1.0, 12.0, -1.0, -1.0, -1.0, -1.0, -1.0, 18.0, -1.0, -1.0, -1.0, -1.0, -1.0, 20.0, -1.0, 27.0, 115.0, -1.0, -1.0, -1.0, -1.0, 20.0, -1.0, -1.0, -1.0, -1.0, -1.0, -1.0, 88.0, -1.0, -1.0, -1.0, 31.0, -1.0, 149.0, -1.0, -1.0, 39.0, 52.0, -1.0, -1.0, -1.0, -1.0, -1.0, 85.0, -1.0, -1.0, -1.0, -1.0, -1.0, 33.0, -1.0, -1.0, -1.0, -1.0, 311.0, -1.0]\n",
      "\n",
      "accuracy is 0.819444444444\n",
      "------------------------------\n",
      "crowd column is group_2_sample_size, gold column is group_2_sample_size \n",
      "gold extraction\n",
      "[-1.0, 19.0, -1.0, -1.0, 41.0, 20.0, 10.0, -1.0, -1.0, 38.0, 173.0, -1.0, -1.0, -1.0, -1.0, 26.0, 8.0, -1.0, -1.0, -1.0, -1.0, -1.0, -1.0, -1.0, -1.0, -1.0, -1.0, 37.0, 21.0, -1.0, 26.0, 111.0, 16.0, -1.0, 44.0, 18.0, 20.0, -1.0, -1.0, -1.0, -1.0, -1.0, -1.0, -1.0, -1.0, -1.0, -1.0, 28.0, -1.0, 149.0, -1.0, 25.0, 36.0, 53.0, 20.0, 30.0, -1.0, -1.0, -1.0, 93.0, -1.0, 37.0, -1.0, -1.0, -1.0, 33.0, -1.0, -1.0, -1.0, -1.0, 315.0, -1.0]\n",
      "\n",
      "crowd extraction\n",
      "[-1.0, 19.0, -1.0, -1.0, 41.0, -1.0, -1.0, -1.0, -1.0, 57.0, 173.0, -1.0, -1.0, -1.0, -1.0, -1.0, 8.0, -1.0, -1.0, -1.0, -1.0, -1.0, 40.0, -1.0, -1.0, -1.0, -1.0, -1.0, 21.0, -1.0, 26.0, 111.0, -1.0, -1.0, -1.0, -1.0, 20.0, -1.0, -1.0, -1.0, -1.0, -1.0, -1.0, 84.0, -1.0, -1.0, -1.0, 28.0, -1.0, 149.0, -1.0, -1.0, 36.0, 53.0, -1.0, -1.0, -1.0, -1.0, -1.0, 93.0, -1.0, -1.0, -1.0, -1.0, -1.0, 33.0, -1.0, -1.0, -1.0, -1.0, -1.0, -1.0]\n",
      "\n",
      "accuracy is 0.791666666667\n",
      "------------------------------\n",
      "\n"
     ]
    }
   ],
   "source": [
    "# calculate the accuracy score of numerical fields \n",
    "confusion_crowd_gold_1(crowd_extractions, gold_extractions, 'arm_num', 'arm_num_gold')\n",
    "print \"---\"*10\n",
    "confusion_crowd_gold_1(crowd_extractions, gold_extractions, 'shared_sample_size', 'shared_sample_size')\n",
    "print \"---\"*10\n",
    "confusion_crowd_gold_1(crowd_extractions, gold_extractions, 'group_1_sample_size', 'group_1_sample_size')\n",
    "print \"---\"*10\n",
    "confusion_crowd_gold_1(crowd_extractions, gold_extractions, 'group_2_sample_size', 'group_2_sample_size')\n",
    "print \"---\"*10\n",
    "print "
   ]
  },
  {
   "cell_type": "code",
   "execution_count": 17,
   "metadata": {
    "collapsed": true
   },
   "outputs": [],
   "source": [
    "# Convert string containing time duration to integer, e.g., \"24 year\" -> 24.0, \"above_eight\"->8.0 \n",
    "def Duration_to_int(s):\n",
    "    number = -1\n",
    "    unit = -1\n",
    "    try:\n",
    "        if np.isnan(s):\n",
    "            return -1.0\n",
    "    except TypeError:\n",
    "        pass\n",
    "    if isinstance(s, float) or isinstance(s, int):\n",
    "        return s\n",
    "    else:\n",
    "        s = s.encode('utf-8')\n",
    "    unit_d = {'year':365, 'month':30, 'week':7, 'day':1, 'hour': 1.0/24, \n",
    "              'minute': 1.0/(24*60), 'second': 1.0/(24*60*60),'years':365, \n",
    "              'months':30, 'weeks':7, 'days':1, 'hours': 1.0/24, \n",
    "              'minutes': 1.0/(24*60), 'seconds': 1.0/(24*60*60)}\n",
    "    num_d = w2n.american_number_system\n",
    "    \n",
    "    s = re.sub('[^0-9a-zA-Z.]+', ' ', s).strip()\n",
    "    l_num = re.findall(r\"[-+]?\\d*\\.\\d+|\\d+\",s)\n",
    "    if len(l_num) >= 1:\n",
    "        number = float(l_num[0])\n",
    "    if number == -1:\n",
    "        l_word = s.split(' ')\n",
    "        for word in l_word:\n",
    "            if word not in num_d:\n",
    "                l_word.remove(word)\n",
    "        ns = ' '.join(l_word)\n",
    "        ns = w2n.word_to_num(ns)\n",
    "        if type(ns) == type(1):\n",
    "            number = float(ns)\n",
    "\n",
    "    l_word = s.split(' ')\n",
    "    for word in l_word:\n",
    "        if word in unit_d:\n",
    "            unit = unit_d[word]\n",
    "            break\n",
    "            \n",
    "    if (number != (-1))&(unit != (-1)):\n",
    "        return float(number*unit)\n",
    "    elif(number == (-1))&(unit != (-1)):\n",
    "        return float(unit)\n",
    "    elif(number != (-1))&(unit == (-1)):\n",
    "        return float(number)\n",
    "    else:\n",
    "        return -1"
   ]
  },
  {
   "cell_type": "code",
   "execution_count": 18,
   "metadata": {
    "collapsed": false
   },
   "outputs": [
    {
     "name": "stdout",
     "output_type": "stream",
     "text": [
      "7.0\n",
      "0.125\n",
      "182.0\n",
      "0.25\n",
      "30.0\n",
      "5.0\n",
      "90.0\n",
      "35.0\n",
      "14.0\n",
      "2.0\n",
      "14.0\n"
     ]
    }
   ],
   "source": [
    "print Duration_to_int('a week')\n",
    "print Duration_to_int('3-hour')\n",
    "print Duration_to_int('26 weeks')\n",
    "print Duration_to_int('6 hours')\n",
    "print Duration_to_int('one month')\n",
    "print Duration_to_int('5 days')\n",
    "print Duration_to_int('90 days')\n",
    "print Duration_to_int('five weeks')\n",
    "print Duration_to_int('two periods of 14 days')\n",
    "print Duration_to_int('two periods')\n",
    "print Duration_to_int('14 days')"
   ]
  },
  {
   "cell_type": "code",
   "execution_count": 19,
   "metadata": {
    "collapsed": true
   },
   "outputs": [],
   "source": [
    "# calculate the accuracy score of frequency and time duration fields\n",
    "def confusion_crowd_gold_2(crowd_extractions, gold_extractions, crowd_field, gold_field):\n",
    "    crowd_num_arms, reference_num_arms = {}, {}\n",
    "    for pmid in all_pmids:\n",
    "        if pmid not in crowd_extractions.pmid.unique().tolist():\n",
    "            continue\n",
    "        #print(\"on PMID: %s\" % pmid)\n",
    "        pmid_crowd_num_arms  = crowd_extractions[crowd_extractions[\"pmid\"] == pmid][crowd_field].values\n",
    "        crowd_responses = []\n",
    "        for n_arms in pmid_crowd_num_arms:\n",
    "            if isinstance(n_arms, float) or isinstance(n_arms, int):\n",
    "                w2n_number = Duration_to_int(n_arms)\n",
    "            else:\n",
    "                w2n_number = Duration_to_int(n_arms)\n",
    "                if w2n_number != -1:    \n",
    "                    w2n_number = 1\n",
    "                    n_arms = n_arms.encode('utf-8')\n",
    "                    n_arms_list = n_arms.split(' of ')\n",
    "                    for sentence_part in n_arms_list:\n",
    "                        temp_score = Duration_to_int(sentence_part)\n",
    "                        if temp_score != -1:\n",
    "                            w2n_number = w2n_number * temp_score\n",
    "            crowd_responses.append(w2n_number)\n",
    "        if len(crowd_responses)>0:\n",
    "            try:\n",
    "                crowd_num_arms[pmid] = mode(crowd_responses)\n",
    "            except:\n",
    "                crowd_num_arms[pmid] = most_common(crowd_responses)\n",
    "\n",
    "        cur_ref_val = gold_extractions[gold_extractions[\"pmid\"] == pmid][gold_field].values[0]\n",
    "        #w2n_number = w2n.word_to_num(cur_ref_val)\n",
    "        if isinstance(cur_ref_val, float) or isinstance(cur_ref_val, int):\n",
    "            w2n_number = Duration_to_int(cur_ref_val)\n",
    "        else:\n",
    "            w2n_number = Duration_to_int(cur_ref_val)\n",
    "            if w2n_number != -1:    \n",
    "                w2n_number = 1\n",
    "                cur_ref_val = cur_ref_val.encode('utf-8')\n",
    "                cur_ref_val_list = cur_ref_val.split(' of ')\n",
    "                for sentence_part in cur_ref_val_list:\n",
    "                    temp_score = Duration_to_int(sentence_part)\n",
    "                    if temp_score != -1:\n",
    "                        w2n_number = w2n_number * temp_score\n",
    "       \n",
    "        reference_num_arms[pmid] = w2n_number\n",
    "    y_gold, y_crowd = [], []\n",
    "    for pmid in all_pmids:\n",
    "        if all([pmid in key_set for key_set in [reference_num_arms.keys(), \n",
    "                                                    crowd_num_arms.keys()]]):\n",
    "            y_gold.append(reference_num_arms[pmid])\n",
    "            y_crowd.append(crowd_num_arms[pmid])\n",
    "\n",
    "    print \"crowd column is %s, gold column is %s \"%(crowd_field, gold_field)\n",
    "    print \"gold extraction\"\n",
    "    print y_gold\n",
    "    print \n",
    "    print \"crowd extraction\"\n",
    "    print y_crowd\n",
    "    print\n",
    "    #accuracy = accuracy_score(y_gold, y_crowd)\n",
    "    accuracy = my_accuracy_score(y_gold, y_crowd)\n",
    "    print \"accuracy is %s\"%accuracy\n",
    "    #confusion_matrix = classification_report(y, y_hat)\n",
    "    #print confusion_matrix\n",
    "    return accuracy"
   ]
  },
  {
   "cell_type": "code",
   "execution_count": 20,
   "metadata": {
    "collapsed": false
   },
   "outputs": [
    {
     "name": "stdout",
     "output_type": "stream",
     "text": [
      "crowd column is share_duration, gold column is share_duration \n",
      "gold extraction\n",
      "[7.0, -1.0, -1.0, 0.125, 182.0, -1.0, 0.25, -1.0, -1.0, -1.0, -1.0, -1.0, 35.0, 84.0, -1.0, 120.0, 70.0, -1.0, 30.0, -1.0, -1.0, -1.0, -1.0, -1.0, -1.0, 360.0, 84.0, 5.0, 105.0, 120.0, -1.0, 168.0, 28.0, 84.0, 14.0, 360.0, -1.0, 1825.0, 140.0, 378.0, -1.0, -1.0, -1.0, 42.0, -1.0, 1740.0, -1.0, -1.0, 84.0, 84.0, -1.0, 360.0, -1.0, -1.0, 168.0, -1.0, -1.0, 42.0, -1.0, -1.0, -1.0, -1.0, 42.0, -1.0, -1.0, 210.0, 90.0, 360.0, -1.0, -1.0, 1825.0, 720.0]\n",
      "\n",
      "crowd extraction\n",
      "[-1, -1, 1825.0, 1.0, 392.0, 15.0, -1, 297.0, -1, 960.0, 0.25, -1, 35.0, 84.0, -1, 120.0, 70.0, 730.0, 30.0, -1, 1898.0, 24.0, -1, -1, -1, 360.0, 84.0, 5.0, 105.0, 56.0, -1, 168.0, 14.0, 84.0, 14.0, 360.0, -1.0, 1825.0, 140.0, 378.0, -1, 365.0, -1, 42.0, 180.0, -1, 180.0, 730.0, 84.0, 84.0, -1, 360.0, 730.0, -1, 168.0, 0.006944444444444445, -1, 42.0, -1, 24.0, -1, -1, 42.0, -1, 63.0, 168.0, 90.0, 360.0, 24.0, 730.0, 1825.0, 720.0]\n",
      "\n",
      "accuracy is 0.638888888889\n",
      "------------------------------\n"
     ]
    }
   ],
   "source": [
    "# calculate the accuracy score of time duration fields \n",
    "confusion_crowd_gold_2(crowd_extractions, gold_extractions, 'share_duration', 'share_duration')\n",
    "print \"---\"*10"
   ]
  },
  {
   "cell_type": "code",
   "execution_count": null,
   "metadata": {
    "collapsed": true
   },
   "outputs": [],
   "source": []
  }
 ],
 "metadata": {
  "kernelspec": {
   "display_name": "Python 2",
   "language": "python",
   "name": "python2"
  },
  "language_info": {
   "codemirror_mode": {
    "name": "ipython",
    "version": 2
   },
   "file_extension": ".py",
   "mimetype": "text/x-python",
   "name": "python",
   "nbconvert_exporter": "python",
   "pygments_lexer": "ipython2",
   "version": "2.7.8"
  }
 },
 "nbformat": 4,
 "nbformat_minor": 0
}
