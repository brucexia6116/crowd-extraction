{
 "cells": [
  {
   "cell_type": "code",
   "execution_count": 23,
   "metadata": {
    "collapsed": false
   },
   "outputs": [],
   "source": [
    "import numpy as np\n",
    "import scipy as sp\n",
    "\n",
    "import pandas as pd\n",
    "\n",
    "import sklearn \n",
    "from sklearn.metrics import classification_report \n",
    "\n",
    "# pip install word2number\n",
    "from word2number import w2n\n",
    "\n",
    "import matplotlib.pyplot as plt\n",
    "%matplotlib inline\n",
    "\n",
    "# pip install pandas_confusion\n",
    "import pandas_confusion\n",
    "\n",
    "from statistics import mode"
   ]
  },
  {
   "cell_type": "code",
   "execution_count": 2,
   "metadata": {
    "collapsed": false
   },
   "outputs": [],
   "source": [
    "crowd_extractions = pd.read_csv(\"crowd-extractions.csv\")\n",
    "# the -main-task.csv implies it excludes the questions used\n",
    "# for testing/validation\n",
    "gold_extractions = pd.read_csv(\"yalin-gold-main-task.csv\", encoding='latin1')"
   ]
  },
  {
   "cell_type": "code",
   "execution_count": 3,
   "metadata": {
    "collapsed": false
   },
   "outputs": [
    {
     "data": {
      "text/html": [
       "<div>\n",
       "<table border=\"1\" class=\"dataframe\">\n",
       "  <thead>\n",
       "    <tr style=\"text-align: right;\">\n",
       "      <th></th>\n",
       "      <th>pmid</th>\n",
       "      <th>id</th>\n",
       "      <th>arm_num</th>\n",
       "      <th>difficulty</th>\n",
       "      <th>feedback</th>\n",
       "      <th>group_1_dose</th>\n",
       "      <th>group_1_duration</th>\n",
       "      <th>group_1_intervention_name</th>\n",
       "      <th>group_1_intervention_type</th>\n",
       "      <th>group_1_route</th>\n",
       "      <th>...</th>\n",
       "      <th>shared_route</th>\n",
       "      <th>shared_route_yn</th>\n",
       "      <th>shared_sample_size</th>\n",
       "      <th>shared_sample_size_yn</th>\n",
       "      <th>shared_schedule</th>\n",
       "      <th>shared_schedule_yn</th>\n",
       "      <th>orig__golden</th>\n",
       "      <th>abstract</th>\n",
       "      <th>pmid.1</th>\n",
       "      <th>title</th>\n",
       "    </tr>\n",
       "  </thead>\n",
       "  <tbody>\n",
       "    <tr>\n",
       "      <th>0</th>\n",
       "      <td>347992</td>\n",
       "      <td>1824164382</td>\n",
       "      <td>two</td>\n",
       "      <td>4</td>\n",
       "      <td>NaN</td>\n",
       "      <td>NaN</td>\n",
       "      <td>NaN</td>\n",
       "      <td>Beclomethasone dipropionate</td>\n",
       "      <td>Pharmacological</td>\n",
       "      <td>NaN</td>\n",
       "      <td>...</td>\n",
       "      <td>na</td>\n",
       "      <td>True</td>\n",
       "      <td>30</td>\n",
       "      <td>True</td>\n",
       "      <td>na</td>\n",
       "      <td>True</td>\n",
       "      <td>NaN</td>\n",
       "      <td>A double-blind, crossover trial of beclomethas...</td>\n",
       "      <td>347992</td>\n",
       "      <td>Beclomethasone dipropionate in pediatric peren...</td>\n",
       "    </tr>\n",
       "    <tr>\n",
       "      <th>1</th>\n",
       "      <td>347992</td>\n",
       "      <td>1824312940</td>\n",
       "      <td>two</td>\n",
       "      <td>NaN</td>\n",
       "      <td>NaN</td>\n",
       "      <td>n/a</td>\n",
       "      <td>n/a</td>\n",
       "      <td>Beclomethasone dipropionate in pediatric peren...</td>\n",
       "      <td>Not Sure</td>\n",
       "      <td>n/a</td>\n",
       "      <td>...</td>\n",
       "      <td>NaN</td>\n",
       "      <td>NaN</td>\n",
       "      <td>30</td>\n",
       "      <td>True</td>\n",
       "      <td>NaN</td>\n",
       "      <td>NaN</td>\n",
       "      <td>NaN</td>\n",
       "      <td>A double-blind, crossover trial of beclomethas...</td>\n",
       "      <td>347992</td>\n",
       "      <td>Beclomethasone dipropionate in pediatric peren...</td>\n",
       "    </tr>\n",
       "    <tr>\n",
       "      <th>2</th>\n",
       "      <td>347992</td>\n",
       "      <td>1829141300</td>\n",
       "      <td>two</td>\n",
       "      <td>NaN</td>\n",
       "      <td>NaN</td>\n",
       "      <td>NaN</td>\n",
       "      <td>NaN</td>\n",
       "      <td>beclomethasone dipropionate intranasal aerosol</td>\n",
       "      <td>Pharmacological</td>\n",
       "      <td>intranasal</td>\n",
       "      <td>...</td>\n",
       "      <td>NaN</td>\n",
       "      <td>NaN</td>\n",
       "      <td>30</td>\n",
       "      <td>True</td>\n",
       "      <td>NaN</td>\n",
       "      <td>True</td>\n",
       "      <td>NaN</td>\n",
       "      <td>A double-blind, crossover trial of beclomethas...</td>\n",
       "      <td>347992</td>\n",
       "      <td>Beclomethasone dipropionate in pediatric peren...</td>\n",
       "    </tr>\n",
       "    <tr>\n",
       "      <th>3</th>\n",
       "      <td>766905</td>\n",
       "      <td>1824222508</td>\n",
       "      <td>two</td>\n",
       "      <td>4</td>\n",
       "      <td>NaN</td>\n",
       "      <td>NaN</td>\n",
       "      <td>NaN</td>\n",
       "      <td>BCG</td>\n",
       "      <td>Pharmacological</td>\n",
       "      <td>NaN</td>\n",
       "      <td>...</td>\n",
       "      <td>na</td>\n",
       "      <td>True</td>\n",
       "      <td>NaN</td>\n",
       "      <td>NaN</td>\n",
       "      <td>na</td>\n",
       "      <td>True</td>\n",
       "      <td>NaN</td>\n",
       "      <td>A controlled randomised trial was carried out ...</td>\n",
       "      <td>766905</td>\n",
       "      <td>Failure of BCG immunostimulation to affect the...</td>\n",
       "    </tr>\n",
       "    <tr>\n",
       "      <th>4</th>\n",
       "      <td>766905</td>\n",
       "      <td>1825026771</td>\n",
       "      <td>two</td>\n",
       "      <td>4</td>\n",
       "      <td>NaN</td>\n",
       "      <td>NaN</td>\n",
       "      <td>NaN</td>\n",
       "      <td>BCG immunostimulation</td>\n",
       "      <td>Not Sure</td>\n",
       "      <td>NaN</td>\n",
       "      <td>...</td>\n",
       "      <td>n/a</td>\n",
       "      <td>True</td>\n",
       "      <td>40</td>\n",
       "      <td>True</td>\n",
       "      <td>n/a</td>\n",
       "      <td>True</td>\n",
       "      <td>NaN</td>\n",
       "      <td>A controlled randomised trial was carried out ...</td>\n",
       "      <td>766905</td>\n",
       "      <td>Failure of BCG immunostimulation to affect the...</td>\n",
       "    </tr>\n",
       "  </tbody>\n",
       "</table>\n",
       "<p>5 rows × 80 columns</p>\n",
       "</div>"
      ],
      "text/plain": [
       "     pmid          id arm_num  difficulty feedback group_1_dose  \\\n",
       "0  347992  1824164382     two           4      NaN          NaN   \n",
       "1  347992  1824312940     two         NaN      NaN          n/a   \n",
       "2  347992  1829141300     two         NaN      NaN          NaN   \n",
       "3  766905  1824222508     two           4      NaN          NaN   \n",
       "4  766905  1825026771     two           4      NaN          NaN   \n",
       "\n",
       "  group_1_duration                          group_1_intervention_name  \\\n",
       "0              NaN                        Beclomethasone dipropionate   \n",
       "1              n/a  Beclomethasone dipropionate in pediatric peren...   \n",
       "2              NaN     beclomethasone dipropionate intranasal aerosol   \n",
       "3              NaN                                                BCG   \n",
       "4              NaN                              BCG immunostimulation   \n",
       "\n",
       "  group_1_intervention_type group_1_route  \\\n",
       "0           Pharmacological           NaN   \n",
       "1                  Not Sure           n/a   \n",
       "2           Pharmacological    intranasal   \n",
       "3           Pharmacological           NaN   \n",
       "4                  Not Sure           NaN   \n",
       "\n",
       "                         ...                         shared_route  \\\n",
       "0                        ...                                   na   \n",
       "1                        ...                                  NaN   \n",
       "2                        ...                                  NaN   \n",
       "3                        ...                                   na   \n",
       "4                        ...                                  n/a   \n",
       "\n",
       "  shared_route_yn shared_sample_size shared_sample_size_yn shared_schedule  \\\n",
       "0            True                 30                  True              na   \n",
       "1             NaN                 30                  True             NaN   \n",
       "2             NaN                 30                  True             NaN   \n",
       "3            True                NaN                   NaN              na   \n",
       "4            True                 40                  True             n/a   \n",
       "\n",
       "  shared_schedule_yn orig__golden  \\\n",
       "0               True          NaN   \n",
       "1                NaN          NaN   \n",
       "2               True          NaN   \n",
       "3               True          NaN   \n",
       "4               True          NaN   \n",
       "\n",
       "                                            abstract  pmid.1  \\\n",
       "0  A double-blind, crossover trial of beclomethas...  347992   \n",
       "1  A double-blind, crossover trial of beclomethas...  347992   \n",
       "2  A double-blind, crossover trial of beclomethas...  347992   \n",
       "3  A controlled randomised trial was carried out ...  766905   \n",
       "4  A controlled randomised trial was carried out ...  766905   \n",
       "\n",
       "                                               title  \n",
       "0  Beclomethasone dipropionate in pediatric peren...  \n",
       "1  Beclomethasone dipropionate in pediatric peren...  \n",
       "2  Beclomethasone dipropionate in pediatric peren...  \n",
       "3  Failure of BCG immunostimulation to affect the...  \n",
       "4  Failure of BCG immunostimulation to affect the...  \n",
       "\n",
       "[5 rows x 80 columns]"
      ]
     },
     "execution_count": 3,
     "metadata": {},
     "output_type": "execute_result"
    }
   ],
   "source": [
    "crowd_extractions.head()"
   ]
  },
  {
   "cell_type": "code",
   "execution_count": 4,
   "metadata": {
    "collapsed": false
   },
   "outputs": [
    {
     "data": {
      "text/html": [
       "<div>\n",
       "<table border=\"1\" class=\"dataframe\">\n",
       "  <thead>\n",
       "    <tr style=\"text-align: right;\">\n",
       "      <th></th>\n",
       "      <th>pmid</th>\n",
       "      <th>abstract</th>\n",
       "      <th>arm_num_gold</th>\n",
       "      <th>share_duration</th>\n",
       "      <th>shared_duration_yn</th>\n",
       "      <th>shared_dose</th>\n",
       "      <th>shared_dose_yn</th>\n",
       "      <th>shared_intervention_name</th>\n",
       "      <th>shared_intervention_name_yn</th>\n",
       "      <th>shared_intervention_type</th>\n",
       "      <th>...</th>\n",
       "      <th>group_7_schedule</th>\n",
       "      <th>group_8_dose</th>\n",
       "      <th>group_8_duration</th>\n",
       "      <th>group_8_intervention_name</th>\n",
       "      <th>group_8_intervention_type</th>\n",
       "      <th>group_8_route</th>\n",
       "      <th>group_8_sample_size</th>\n",
       "      <th>group_8_schedule</th>\n",
       "      <th>over_eight_groups</th>\n",
       "      <th>title</th>\n",
       "    </tr>\n",
       "  </thead>\n",
       "  <tbody>\n",
       "    <tr>\n",
       "      <th>0</th>\n",
       "      <td>347992</td>\n",
       "      <td>A double-blind, crossover trial of beclomethas...</td>\n",
       "      <td>two</td>\n",
       "      <td>a week</td>\n",
       "      <td>True</td>\n",
       "      <td>NaN</td>\n",
       "      <td>NaN</td>\n",
       "      <td>NaN</td>\n",
       "      <td>NaN</td>\n",
       "      <td>Pharmacological</td>\n",
       "      <td>...</td>\n",
       "      <td>NaN</td>\n",
       "      <td>NaN</td>\n",
       "      <td>NaN</td>\n",
       "      <td>NaN</td>\n",
       "      <td>NaN</td>\n",
       "      <td>NaN</td>\n",
       "      <td>NaN</td>\n",
       "      <td>NaN</td>\n",
       "      <td>NaN</td>\n",
       "      <td>NaN</td>\n",
       "    </tr>\n",
       "    <tr>\n",
       "      <th>1</th>\n",
       "      <td>766905</td>\n",
       "      <td>A controlled randomised trial was carried out ...</td>\n",
       "      <td>two</td>\n",
       "      <td>NaN</td>\n",
       "      <td>NaN</td>\n",
       "      <td>NaN</td>\n",
       "      <td>NaN</td>\n",
       "      <td>NaN</td>\n",
       "      <td>NaN</td>\n",
       "      <td>Pharmacological</td>\n",
       "      <td>...</td>\n",
       "      <td>NaN</td>\n",
       "      <td>NaN</td>\n",
       "      <td>NaN</td>\n",
       "      <td>NaN</td>\n",
       "      <td>NaN</td>\n",
       "      <td>NaN</td>\n",
       "      <td>NaN</td>\n",
       "      <td>NaN</td>\n",
       "      <td>NaN</td>\n",
       "      <td>NaN</td>\n",
       "    </tr>\n",
       "    <tr>\n",
       "      <th>2</th>\n",
       "      <td>807952</td>\n",
       "      <td>Ninety-six patients with advanced squamous cel...</td>\n",
       "      <td>two</td>\n",
       "      <td>NaN</td>\n",
       "      <td>NaN</td>\n",
       "      <td>NaN</td>\n",
       "      <td>NaN</td>\n",
       "      <td>radical irradiation</td>\n",
       "      <td>True</td>\n",
       "      <td>NaN</td>\n",
       "      <td>...</td>\n",
       "      <td>NaN</td>\n",
       "      <td>NaN</td>\n",
       "      <td>NaN</td>\n",
       "      <td>NaN</td>\n",
       "      <td>NaN</td>\n",
       "      <td>NaN</td>\n",
       "      <td>NaN</td>\n",
       "      <td>NaN</td>\n",
       "      <td>NaN</td>\n",
       "      <td>NaN</td>\n",
       "    </tr>\n",
       "    <tr>\n",
       "      <th>3</th>\n",
       "      <td>1683365</td>\n",
       "      <td>Although continuous positive airway pressure (...</td>\n",
       "      <td>two</td>\n",
       "      <td>3-hour</td>\n",
       "      <td>True</td>\n",
       "      <td>NaN</td>\n",
       "      <td>NaN</td>\n",
       "      <td>NaN</td>\n",
       "      <td>NaN</td>\n",
       "      <td>Medical Devices</td>\n",
       "      <td>...</td>\n",
       "      <td>NaN</td>\n",
       "      <td>NaN</td>\n",
       "      <td>NaN</td>\n",
       "      <td>NaN</td>\n",
       "      <td>NaN</td>\n",
       "      <td>NaN</td>\n",
       "      <td>NaN</td>\n",
       "      <td>NaN</td>\n",
       "      <td>NaN</td>\n",
       "      <td>NaN</td>\n",
       "    </tr>\n",
       "    <tr>\n",
       "      <th>4</th>\n",
       "      <td>1853859</td>\n",
       "      <td>To study the impact of dietary intervention on...</td>\n",
       "      <td>two</td>\n",
       "      <td>26 weeks</td>\n",
       "      <td>True</td>\n",
       "      <td>NaN</td>\n",
       "      <td>NaN</td>\n",
       "      <td>NaN</td>\n",
       "      <td>NaN</td>\n",
       "      <td>Behavioral</td>\n",
       "      <td>...</td>\n",
       "      <td>NaN</td>\n",
       "      <td>NaN</td>\n",
       "      <td>NaN</td>\n",
       "      <td>NaN</td>\n",
       "      <td>NaN</td>\n",
       "      <td>NaN</td>\n",
       "      <td>NaN</td>\n",
       "      <td>NaN</td>\n",
       "      <td>NaN</td>\n",
       "      <td>NaN</td>\n",
       "    </tr>\n",
       "  </tbody>\n",
       "</table>\n",
       "<p>5 rows × 75 columns</p>\n",
       "</div>"
      ],
      "text/plain": [
       "      pmid                                           abstract arm_num_gold  \\\n",
       "0   347992  A double-blind, crossover trial of beclomethas...         two    \n",
       "1   766905  A controlled randomised trial was carried out ...          two   \n",
       "2   807952  Ninety-six patients with advanced squamous cel...          two   \n",
       "3  1683365  Although continuous positive airway pressure (...          two   \n",
       "4  1853859  To study the impact of dietary intervention on...          two   \n",
       "\n",
       "  share_duration shared_duration_yn shared_dose shared_dose_yn  \\\n",
       "0         a week               True         NaN            NaN   \n",
       "1            NaN                NaN         NaN            NaN   \n",
       "2            NaN                NaN         NaN            NaN   \n",
       "3         3-hour               True         NaN            NaN   \n",
       "4       26 weeks               True         NaN            NaN   \n",
       "\n",
       "  shared_intervention_name shared_intervention_name_yn  \\\n",
       "0                      NaN                         NaN   \n",
       "1                      NaN                         NaN   \n",
       "2      radical irradiation                        True   \n",
       "3                      NaN                         NaN   \n",
       "4                      NaN                         NaN   \n",
       "\n",
       "  shared_intervention_type  ...  group_7_schedule group_8_dose  \\\n",
       "0          Pharmacological  ...               NaN          NaN   \n",
       "1          Pharmacological  ...               NaN          NaN   \n",
       "2                      NaN  ...               NaN          NaN   \n",
       "3          Medical Devices  ...               NaN          NaN   \n",
       "4               Behavioral  ...               NaN          NaN   \n",
       "\n",
       "  group_8_duration group_8_intervention_name group_8_intervention_type  \\\n",
       "0              NaN                       NaN                       NaN   \n",
       "1              NaN                       NaN                       NaN   \n",
       "2              NaN                       NaN                       NaN   \n",
       "3              NaN                       NaN                       NaN   \n",
       "4              NaN                       NaN                       NaN   \n",
       "\n",
       "  group_8_route group_8_sample_size group_8_schedule over_eight_groups title  \n",
       "0           NaN                 NaN              NaN               NaN   NaN  \n",
       "1           NaN                 NaN              NaN               NaN   NaN  \n",
       "2           NaN                 NaN              NaN               NaN   NaN  \n",
       "3           NaN                 NaN              NaN               NaN   NaN  \n",
       "4           NaN                 NaN              NaN               NaN   NaN  \n",
       "\n",
       "[5 rows x 75 columns]"
      ]
     },
     "execution_count": 4,
     "metadata": {},
     "output_type": "execute_result"
    }
   ],
   "source": [
    "gold_extractions.head()"
   ]
  },
  {
   "cell_type": "code",
   "execution_count": 5,
   "metadata": {
    "collapsed": false
   },
   "outputs": [
    {
     "data": {
      "text/plain": [
       "0    two\n",
       "1    two\n",
       "2    two\n",
       "Name: arm_num, dtype: object"
      ]
     },
     "execution_count": 5,
     "metadata": {},
     "output_type": "execute_result"
    }
   ],
   "source": [
    "sample_pmid = 347992\n",
    "crowd_extractions[crowd_extractions[\"pmid\"] == sample_pmid][\"arm_num\"]"
   ]
  },
  {
   "cell_type": "code",
   "execution_count": 7,
   "metadata": {
    "collapsed": false
   },
   "outputs": [
    {
     "data": {
      "text/plain": [
       "0    two \n",
       "Name: arm_num_gold, dtype: object"
      ]
     },
     "execution_count": 7,
     "metadata": {},
     "output_type": "execute_result"
    }
   ],
   "source": [
    "gold_extractions[gold_extractions[\"pmid\"] == sample_pmid][\"arm_num_gold\"]"
   ]
  },
  {
   "cell_type": "code",
   "execution_count": 8,
   "metadata": {
    "collapsed": true
   },
   "outputs": [],
   "source": [
    "all_pmids = [int(pmid) for pmid in gold_extractions[\"pmid\"].values]"
   ]
  },
  {
   "cell_type": "code",
   "execution_count": 9,
   "metadata": {
    "collapsed": false
   },
   "outputs": [
    {
     "data": {
      "text/plain": [
       "array(['two', 'two', 'above_eight'], dtype=object)"
      ]
     },
     "execution_count": 9,
     "metadata": {},
     "output_type": "execute_result"
    }
   ],
   "source": [
    "pmid= 8018001\n",
    "pmid_crowd_num_arms  = crowd_extractions[crowd_extractions[\"pmid\"] == int(pmid)][\"arm_num\"].values\n",
    "pmid_crowd_num_arms"
   ]
  },
  {
   "cell_type": "code",
   "execution_count": 11,
   "metadata": {
    "collapsed": false
   },
   "outputs": [
    {
     "data": {
      "text/plain": [
       "10    four\n",
       "Name: arm_num_gold, dtype: object"
      ]
     },
     "execution_count": 11,
     "metadata": {},
     "output_type": "execute_result"
    }
   ],
   "source": [
    "gold_extractions[gold_extractions[\"pmid\"] == 2569600][\"arm_num_gold\"]"
   ]
  },
  {
   "cell_type": "code",
   "execution_count": 14,
   "metadata": {
    "collapsed": false
   },
   "outputs": [
    {
     "name": "stdout",
     "output_type": "stream",
     "text": [
      "failed on 2619027 for expert! ref val: ???\n",
      "\n",
      "failed on 7853047 for expert! ref val: ???\n",
      "\n",
      "failed on 8018001 for crowd! arm responses: above_eight\n",
      "\n",
      "failed on 8018001 for expert! ref val: more than 8\n",
      "\n",
      "failed on 9549451 for crowd! arm responses: above_eight\n",
      "\n",
      "failed on 12069289 for expert! ref val: one?\n",
      "\n",
      "failed on 17855465 for expert! ref val: one?\n",
      "\n",
      "failed on 18851769 for expert! ref val: ???\n",
      "\n"
     ]
    }
   ],
   "source": [
    "crowd_num_arms, reference_num_arms = {}, {}\n",
    "for pmid in all_pmids:\n",
    "    #print(\"on PMID: %s\" % pmid)\n",
    "    pmid_crowd_num_arms  = crowd_extractions[crowd_extractions[\"pmid\"] == pmid][\"arm_num\"].values\n",
    "    crowd_responses = []\n",
    "    for n_arms in pmid_crowd_num_arms:\n",
    "        try:\n",
    "            crowd_responses.append(w2n.word_to_num(n_arms)) #w2n.word_to_num(n_arms) for n_arms in pmid_crowd_num_arms\n",
    "        except:\n",
    "            print(\"failed on %s for crowd! arm responses: %s\" % (pmid, n_arms))\n",
    "            print() \n",
    "            \n",
    "    crowd_num_arms[pmid] = mode(crowd_responses)\n",
    "    \n",
    "    cur_ref_val = gold_extractions[gold_extractions[\"pmid\"] == pmid][\"arm_num_gold\"].values[0]\n",
    "    try:\n",
    "        reference_num_arms[pmid] = w2n.word_to_num(cur_ref_val)\n",
    "    except:\n",
    "        print(\"failed on %s for expert! ref val: %s\" % (pmid, cur_ref_val))\n",
    "        print()\n",
    "        # w2n.word_to_num(gold_extractions[gold_extractions[\"pmid\"] == int(pmid)][\"arm_num_gold\"])\n",
    "    #print()"
   ]
  },
  {
   "cell_type": "code",
   "execution_count": 20,
   "metadata": {
    "collapsed": false
   },
   "outputs": [],
   "source": [
    "y, y_hat = [], []\n",
    "for pmid in all_pmids:\n",
    "    if all([pmid in key_set for key_set in [reference_num_arms.keys(), \n",
    "                                                crowd_num_arms.keys()]]):\n",
    "        y.append(reference_num_arms[pmid])\n",
    "        y_hat.append(crowd_num_arms[pmid])\n",
    "    "
   ]
  },
  {
   "cell_type": "code",
   "execution_count": 25,
   "metadata": {
    "collapsed": false
   },
   "outputs": [
    {
     "name": "stdout",
     "output_type": "stream",
     "text": [
      "             precision    recall  f1-score   support\n",
      "\n",
      "          2       0.84      1.00      0.91        46\n",
      "          3       0.86      0.75      0.80         8\n",
      "          4       1.00      0.22      0.36         9\n",
      "          6       1.00      0.50      0.67         2\n",
      "          7       1.00      1.00      1.00         1\n",
      "\n",
      "avg / total       0.87      0.85      0.82        66\n",
      "\n"
     ]
    }
   ],
   "source": [
    "print(classification_report(y, y_hat))"
   ]
  },
  {
   "cell_type": "code",
   "execution_count": null,
   "metadata": {
    "collapsed": true
   },
   "outputs": [],
   "source": []
  }
 ],
 "metadata": {
  "kernelspec": {
   "display_name": "Python 3",
   "language": "python",
   "name": "python3"
  },
  "language_info": {
   "codemirror_mode": {
    "name": "ipython",
    "version": 3
   },
   "file_extension": ".py",
   "mimetype": "text/x-python",
   "name": "python",
   "nbconvert_exporter": "python",
   "pygments_lexer": "ipython3",
   "version": "3.4.4"
  }
 },
 "nbformat": 4,
 "nbformat_minor": 0
}
